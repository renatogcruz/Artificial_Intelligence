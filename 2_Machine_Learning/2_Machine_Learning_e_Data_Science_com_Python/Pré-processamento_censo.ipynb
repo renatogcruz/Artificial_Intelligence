{
 "cells": [
  {
   "cell_type": "code",
   "execution_count": null,
   "metadata": {},
   "outputs": [],
   "source": [
    "### Entendo banco de dados\n",
    "\n",
    "Atributos previsores = client, income, age, loan\n",
    "\n",
    "Atributo classe = default\n",
    "\n",
    "### Colunas do banco de dados\n",
    "- 'clientid' - ID do cliente (campo auto-incremento), \n",
    "- 'income' - salário/renda do cliente (formato anual), \n",
    "- 'age' - idade do cliente, \n",
    "- 'loan' - valor do emprestimo, \n",
    "- 'default' - 0=não pagou, 1=pagou."
   ]
  }
 ],
 "metadata": {
  "kernelspec": {
   "display_name": "Python 3",
   "language": "python",
   "name": "python3"
  },
  "language_info": {
   "codemirror_mode": {
    "name": "ipython",
    "version": 3
   },
   "file_extension": ".py",
   "mimetype": "text/x-python",
   "name": "python",
   "nbconvert_exporter": "python",
   "pygments_lexer": "ipython3",
   "version": "3.8.5"
  }
 },
 "nbformat": 4,
 "nbformat_minor": 4
}
