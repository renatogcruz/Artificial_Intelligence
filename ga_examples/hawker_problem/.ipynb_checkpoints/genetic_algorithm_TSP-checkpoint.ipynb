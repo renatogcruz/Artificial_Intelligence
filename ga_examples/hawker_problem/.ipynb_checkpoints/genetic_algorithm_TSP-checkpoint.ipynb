{
 "cells": [
  {
   "cell_type": "code",
   "execution_count": 2,
   "metadata": {},
   "outputs": [],
   "source": [
    "import numpy as np, random, operator, pandas as pd, matplotlib.pyplot as plt"
   ]
  },
  {
   "cell_type": "markdown",
   "metadata": {},
   "source": [
    "# Create necessary classes and functions"
   ]
  },
  {
   "cell_type": "markdown",
   "metadata": {},
   "source": [
    "### Create class to handle \"cities\"\n",
    "\n",
    "Primeiro criamos uma classe city que nos permitirá criar e gerenciar nossas cidades. Estas são simplesmente nossas coordenadas (x,y). Dentro desta classe, adicionamos um cálculo distance (fazemos uso do teorema de Pitágoras) e uma maneira mais clara de produzir as cidades como coordenadas __repr__ ."
   ]
  },
  {
   "cell_type": "code",
   "execution_count": 3,
   "metadata": {},
   "outputs": [],
   "source": [
    "class City:\n",
    "    def __init__(self, x, y):\n",
    "        self.x = x\n",
    "        self.y = y\n",
    "    \n",
    "    def distance(self, city):\n",
    "        xDis = abs(self.x - city.x)\n",
    "        yDis = abs(self.y - city.y)\n",
    "        distance = np.sqrt((xDis ** 2) + (yDis ** 2))\n",
    "        return distance\n",
    "    \n",
    "    def __repr__(self):\n",
    "        return \"(\" + str(self.x) + \",\" + str(self.y) + \")\""
   ]
  },
  {
   "cell_type": "markdown",
   "metadata": {},
   "source": [
    "### Create a fitness function\n",
    "\n",
    "Nos também vamos criar uma classe fitness. No nosso caso, trataremos esta classe como o inverso da distância da rota. Queremos minimizar a distância da rota, portanto, uma pontuação de aptidão maior é melhor. Com base na segunda regra, precisamos começar e terminar no mesmo local, portanto, esse cálculo extra é contabilizado na linha 13 do cálculo da distância."
   ]
  },
  {
   "cell_type": "code",
   "execution_count": 4,
   "metadata": {},
   "outputs": [],
   "source": [
    "class Fitness:\n",
    "    def __init__(self, route):\n",
    "        self.route = route\n",
    "        self.distance = 0\n",
    "        self.fitness= 0.0\n",
    "    \n",
    "    def routeDistance(self):\n",
    "        if self.distance ==0:\n",
    "            pathDistance = 0\n",
    "            for i in range(0, len(self.route)):\n",
    "                fromCity = self.route[i]\n",
    "                toCity = None\n",
    "                if i + 1 < len(self.route):\n",
    "                    toCity = self.route[i + 1]\n",
    "                else:\n",
    "                    toCity = self.route[0]\n",
    "                pathDistance += fromCity.distance(toCity)\n",
    "            self.distance = pathDistance\n",
    "        return self.distance\n",
    "    \n",
    "    def routeFitness(self):\n",
    "        if self.fitness == 0:\n",
    "            self.fitness = 1 / float(self.routeDistance())\n",
    "        return self.fitness"
   ]
  },
  {
   "cell_type": "markdown",
   "metadata": {},
   "source": [
    "## Create our initial population"
   ]
  },
  {
   "cell_type": "markdown",
   "metadata": {},
   "source": [
    "### Route generator\n",
    "\n",
    "Agora podemos fazer nossa população inicial (também conhecida como primeira geração). Para fazer isso, precisamos de uma maneira de criar uma função que produza rotas que satisfaçam nossas condições (Nota: criaremos nossa lista de cidades quando realmente executarmos o GA no final do tutorial).\n",
    "Para cada individuo, selecionamos aleatoriamente a ordem em que visitamos cada cidade:"
   ]
  },
  {
   "cell_type": "code",
   "execution_count": 5,
   "metadata": {},
   "outputs": [],
   "source": [
    "def createRoute(cityList):\n",
    "    route = random.sample(cityList, len(cityList))\n",
    "    return route"
   ]
  },
  {
   "cell_type": "markdown",
   "metadata": {},
   "source": [
    "### Create first \"population\" (list of routes)\n",
    "\n",
    "Isso produz um indivíduo, mas queremos uma população completa, então vamos fazer isso em nossa próxima função. Isso é tão simples quanto percorrer a função createRoute até termos tantas rotas quantas quisermos para nossa população."
   ]
  },
  {
   "cell_type": "code",
   "execution_count": 6,
   "metadata": {},
   "outputs": [],
   "source": [
    "def initialPopulation(popSize, cityList):\n",
    "    population = []\n",
    "\n",
    "    for i in range(0, popSize):\n",
    "        population.append(createRoute(cityList))\n",
    "    return population"
   ]
  },
  {
   "cell_type": "markdown",
   "metadata": {},
   "source": [
    "Nota: ***nós só temos que usar essas funções para criar a população inicial. Gerações subsequentes serão produzidas através de reprodução e mutação***.\n",
    "\n",
    "\n",
    "## Create the genetic algorithm"
   ]
  },
  {
   "cell_type": "markdown",
   "metadata": {},
   "source": [
    "### Rank individuals\n",
    "\n",
    "Em seguida, a diversão evolutiva começa. Para simular nossa “sobrevivência do mais apto”, podemos usar fitness para classificar cada indivíduo na população. Nossa saída será uma lista ordenada com os IDs de rota e cada pontuação de aptidão associada."
   ]
  },
  {
   "cell_type": "code",
   "execution_count": 7,
   "metadata": {},
   "outputs": [],
   "source": [
    "def rankRoutes(population):\n",
    "    fitnessResults = {}\n",
    "    for i in range(0,len(population)):\n",
    "        fitnessResults[i] = Fitness(population[i]).routeFitness()\n",
    "    return sorted(fitnessResults.items(), key = operator.itemgetter(1), reverse = True)"
   ]
  },
  {
   "cell_type": "markdown",
   "metadata": {},
   "source": [
    "### Create a selection function that will be used to make the list of parent routes\n",
    "\n",
    "existem algumas opções para selecionar os pais que serão usados para criar a próxima geração. As abordagens mais comuns são a seleção proporcional da aptidão (também conhecida como “seleção da roleta”) ou a seleção de torneios:\n",
    "\n",
    "1. adequação da seleção proporcional (a versão implementada abaixo): a adequação de cada indivíduo em relação à população é usada para atribuir uma probabilidade de seleção. Pense nisso como a probabilidade ponderada de adequação de ser selecionada; \n",
    "2. seleção de torneio: um número definido de indivíduos é selecionado aleatoriamente da população e aquele com a maior aptidão no grupo é escolhido como o primeiro pai. Isso é repetido para escolher o segundo pai.\n",
    "\n",
    "Outro recurso de design a ser considerado é o uso do elitismo. Com o elitismo, os indivíduos com melhores desempenhos da população passarão automaticamente para a próxima geração, garantindo que os indivíduos mais bem-sucedidos persistam.\n",
    "Para maior clareza, criaremos o pool de acasalamento em duas etapas. Primeiro, usaremos a saída de rankRoutes para determinar quais rotas selecionar em nossa função selection. Nas linhas 3 a 5, montamos a roleta calculando o peso relativo da aptidão para cada indivíduo. Na linha 9, comparamos um número sorteado aleatoriamente com esses pesos para selecionar nosso pool de reprodução. Também queremos manter nossas melhores rotas, então introduzimos o elitismo na linha 7. Finalmente, a função selection retorna uma lista de IDs de rota, que podemos usar para criar o pool de cruzamento na função matingPool.\n"
   ]
  },
  {
   "cell_type": "code",
   "execution_count": 8,
   "metadata": {},
   "outputs": [],
   "source": [
    "def selection(popRanked, eliteSize):\n",
    "    selectionResults = []\n",
    "    df = pd.DataFrame(np.array(popRanked), columns=[\"Index\",\"Fitness\"])\n",
    "    df['cum_sum'] = df.Fitness.cumsum()\n",
    "    df['cum_perc'] = 100*df.cum_sum/df.Fitness.sum()\n",
    "    \n",
    "    for i in range(0, eliteSize):\n",
    "        selectionResults.append(popRanked[i][0])\n",
    "    for i in range(0, len(popRanked) - eliteSize):\n",
    "        pick = 100*random.random()\n",
    "        for i in range(0, len(popRanked)):\n",
    "            if pick <= df.iat[i,3]:\n",
    "                selectionResults.append(popRanked[i][0])\n",
    "                break\n",
    "    return selectionResults"
   ]
  },
  {
   "cell_type": "markdown",
   "metadata": {},
   "source": [
    "### Create mating pool\n",
    "\n",
    "Agora que temos os IDs das rotas que irão compor o nosso mating pool a partir da função selection, podemos criar o mating pool. Estamos simplesmente extraindo os indivíduos selecionados da nossa população."
   ]
  },
  {
   "cell_type": "code",
   "execution_count": 9,
   "metadata": {},
   "outputs": [],
   "source": [
    "def matingPool(population, selectionResults):\n",
    "    matingpool = []\n",
    "    for i in range(0, len(selectionResults)):\n",
    "        index = selectionResults[i]\n",
    "        matingpool.append(population[index])\n",
    "    return matingpool"
   ]
  },
  {
   "cell_type": "markdown",
   "metadata": {},
   "source": [
    "### Create a crossover function for two parents to create one child\n",
    "\n",
    "Com o nosso pool de acasalamento criado, podemos criar a próxima geração em um processo chamado crossover (também conhecido como reprodução). Se nossos indivíduos fossem strings de 0s e 1s e nossas duas regras não se aplicassem (por exemplo, imagine que estivéssemos decidindo incluir ou não uma ação em uma carteira), poderíamos simplesmente escolher um ponto de cruzamento e unir as duas cadeias para produzir uma prole.\n",
    "No entanto, o PVA é único, pois precisamos incluir todos os locais exatamente uma vez. Para cumprir esta regra, podemos usar uma função de criação espacial chamada crossover ordenado. No crossover ordenado, selecionamos aleatoriamente um subconjunto da primeira string pai (veja na linha 12 na função breed) e, em seguida, preenchemos o restante da rota com os genes da segunda mãe na ordem em que aparecem, sem duplicar nenhum gene em o subconjunto selecionado do primeiro pai (veja a linha 15 da função breed).\n"
   ]
  },
  {
   "cell_type": "code",
   "execution_count": 10,
   "metadata": {},
   "outputs": [],
   "source": [
    "def breed(parent1, parent2):\n",
    "    child = []\n",
    "    childP1 = []\n",
    "    childP2 = []\n",
    "    \n",
    "    geneA = int(random.random() * len(parent1))\n",
    "    geneB = int(random.random() * len(parent1))\n",
    "    \n",
    "    startGene = min(geneA, geneB)\n",
    "    endGene = max(geneA, geneB)\n",
    "\n",
    "    for i in range(startGene, endGene):\n",
    "        childP1.append(parent1[i])\n",
    "        \n",
    "    childP2 = [item for item in parent2 if item not in childP1]\n",
    "\n",
    "    child = childP1 + childP2\n",
    "    return child"
   ]
  },
  {
   "cell_type": "markdown",
   "metadata": {},
   "source": [
    "### Create function to run crossover over full mating pool\n",
    "\n",
    "Em seguida, vamos generalizar isso para criar nossa população de filhos. Na linha 5, usamos o elitismo para reter as melhores rotas da população atual. Então, na linha 8, usamos a função breed para preencher o restante da próxima geração. "
   ]
  },
  {
   "cell_type": "code",
   "execution_count": 11,
   "metadata": {},
   "outputs": [],
   "source": [
    "def breedPopulation(matingpool, eliteSize):\n",
    "    children = []\n",
    "    length = len(matingpool) - eliteSize\n",
    "    pool = random.sample(matingpool, len(matingpool))\n",
    "\n",
    "    for i in range(0,eliteSize):\n",
    "        children.append(matingpool[i])\n",
    "    \n",
    "    for i in range(0, length):\n",
    "        child = breed(pool[i], pool[len(matingpool)-i-1])\n",
    "        children.append(child)\n",
    "    return children"
   ]
  },
  {
   "cell_type": "markdown",
   "metadata": {},
   "source": [
    "### Create function to mutate a single route\n",
    "\n",
    "A mutação tem uma função importante no GA, pois ajuda a evitar a convergência local, introduzindo novas rotas que nos permitirão explorar outras partes do espaço da solução. Semelhante ao crossover, o PVA tem uma consideração especial quando se trata de mutação. Novamente, se tivéssemos um cromossomo de 0s e 1s, a mutação significaria simplesmente atribuir uma baixa probabilidade de um gene mudar de 0 para 1, ou vice-versa (para continuar o exemplo de antes, uma ação que foi incluída no portfólio da prole é agora excluído).\n",
    "No entanto, uma vez que precisamos cumprir nossas regras, não podemos abandonar as cidades. Em vez disso, usaremos a mutação de troca. Isso significa que, com baixa probabilidade especificada, duas cidades trocarão de lugar em nossa rota. Faremos isso para um indivíduo em nossa função mutate.\n"
   ]
  },
  {
   "cell_type": "code",
   "execution_count": 12,
   "metadata": {},
   "outputs": [],
   "source": [
    "def mutate(individual, mutationRate):\n",
    "    for swapped in range(len(individual)):\n",
    "        if(random.random() < mutationRate):\n",
    "            swapWith = int(random.random() * len(individual))\n",
    "            \n",
    "            city1 = individual[swapped]\n",
    "            city2 = individual[swapWith]\n",
    "            \n",
    "            individual[swapped] = city2\n",
    "            individual[swapWith] = city1\n",
    "    return individual"
   ]
  },
  {
   "cell_type": "markdown",
   "metadata": {},
   "source": [
    "### Create function to run mutation over entire population\n",
    "\n",
    "Em seguida, podemos estender a função mutate para percorrer a nova população."
   ]
  },
  {
   "cell_type": "code",
   "execution_count": 13,
   "metadata": {},
   "outputs": [],
   "source": [
    "def mutatePopulation(population, mutationRate):\n",
    "    mutatedPop = []\n",
    "    \n",
    "    for ind in range(0, len(population)):\n",
    "        mutatedInd = mutate(population[ind], mutationRate)\n",
    "        mutatedPop.append(mutatedInd)\n",
    "    return mutatedPop"
   ]
  },
  {
   "cell_type": "markdown",
   "metadata": {},
   "source": [
    "### Put all steps together to create the next generation\n",
    "\n",
    "Estamos quase lá. Vamos juntar essas peças para criar uma função que produza uma nova geração. Primeiro, classificamos as rotas na geração atual usando rankRoutes. Em seguida, determinamos nossos possíveis pais executando a função selection, o que permite criar o pool de cruzamento usando a função matingPool. Finalmente, criamos nossa nova geração usando a função breedPopulation e, em seguida, aplicando a mutação usando a função mutatePopulation. "
   ]
  },
  {
   "cell_type": "code",
   "execution_count": 14,
   "metadata": {},
   "outputs": [],
   "source": [
    "def nextGeneration(currentGen, eliteSize, mutationRate):\n",
    "    popRanked = rankRoutes(currentGen)\n",
    "    selectionResults = selection(popRanked, eliteSize)\n",
    "    matingpool = matingPool(currentGen, selectionResults)\n",
    "    children = breedPopulation(matingpool, eliteSize)\n",
    "    nextGeneration = mutatePopulation(children, mutationRate)\n",
    "    return nextGeneration"
   ]
  },
  {
   "cell_type": "markdown",
   "metadata": {},
   "source": [
    "### Final step: create the genetic algorithm\n",
    "\n",
    "Finalmente temos todas as peças para criar nosso GA. Tudo o que precisamos fazer é criar a população inicial, e então podemos percorrer tantas gerações quanto desejarmos. É claro que também queremos ver a melhor rota e quanto melhoramos, então capturamos a distância inicial na linha 3 (lembre-se, a distância é o inverso da condição física), a distância final na linha 8 e a melhor rota na linha 9."
   ]
  },
  {
   "cell_type": "code",
   "execution_count": 15,
   "metadata": {},
   "outputs": [],
   "source": [
    "def geneticAlgorithm(population, popSize, eliteSize, mutationRate, generations):\n",
    "    pop = initialPopulation(popSize, population)\n",
    "    print(\"Initial distance: \" + str(1 / rankRoutes(pop)[0][1]))\n",
    "    \n",
    "    for i in range(0, generations):\n",
    "        pop = nextGeneration(pop, eliteSize, mutationRate)\n",
    "    \n",
    "    print(\"Final distance: \" + str(1 / rankRoutes(pop)[0][1]))\n",
    "    bestRouteIndex = rankRoutes(pop)[0][0]\n",
    "    bestRoute = pop[bestRouteIndex]\n",
    "    return bestRoute"
   ]
  },
  {
   "cell_type": "markdown",
   "metadata": {},
   "source": [
    "## Running the genetic algorithm"
   ]
  },
  {
   "cell_type": "markdown",
   "metadata": {},
   "source": [
    "### Create list of cities\n",
    "\n",
    "Com tudo no lugar, resolver o problea é tão fácil quanto dois passos:\n",
    "Primeiro, precisamos de uma lista de cidades para viajar entre elas. Para esta demonstração, criaremos uma lista de 25 cidades aleatórias (um número aparentemente pequeno de cidades, mas a força bruta teria que testar mais de 300 septiliões de rotas):\n"
   ]
  },
  {
   "cell_type": "code",
   "execution_count": 16,
   "metadata": {},
   "outputs": [],
   "source": [
    "cityList = []\n",
    "\n",
    "for i in range(0,25):\n",
    "    cityList.append(City(x=int(random.random() * 200), y=int(random.random() * 200)))"
   ]
  },
  {
   "cell_type": "markdown",
   "metadata": {},
   "source": [
    "### Run the genetic algorithm\n",
    "\n",
    "Em seguida, executar o algoritmo genético é uma linha simples de código. É aqui que a arte se encontra com a ciência; você deve ver quais suposições funcionam melhor para você. Neste exemplo, temos 100 indivíduos em cada geração, mantemos 20 indivíduos de elite, usamos uma taxa de mutação de 1% para um determinado gene e percorremos 500 gerações:"
   ]
  },
  {
   "cell_type": "code",
   "execution_count": 17,
   "metadata": {},
   "outputs": [
    {
     "name": "stdout",
     "output_type": "stream",
     "text": [
      "Initial distance: 2191.5930910612424\n",
      "Final distance: 937.6529225033768\n"
     ]
    },
    {
     "data": {
      "text/plain": [
       "[(127,107),\n",
       " (137,105),\n",
       " (180,147),\n",
       " (177,176),\n",
       " (156,167),\n",
       " (131,162),\n",
       " (119,199),\n",
       " (101,169),\n",
       " (40,182),\n",
       " (39,109),\n",
       " (20,19),\n",
       " (22,8),\n",
       " (82,48),\n",
       " (102,6),\n",
       " (131,1),\n",
       " (196,2),\n",
       " (166,28),\n",
       " (172,45),\n",
       " (180,80),\n",
       " (193,66),\n",
       " (196,65),\n",
       " (194,64),\n",
       " (162,70),\n",
       " (131,38),\n",
       " (130,58)]"
      ]
     },
     "execution_count": 17,
     "metadata": {},
     "output_type": "execute_result"
    }
   ],
   "source": [
    "geneticAlgorithm(population=cityList, popSize=100, eliteSize=20, mutationRate=0.01, generations=500)"
   ]
  },
  {
   "cell_type": "markdown",
   "metadata": {},
   "source": [
    "## Plot the progress"
   ]
  },
  {
   "cell_type": "markdown",
   "metadata": {},
   "source": [
    "Note, this will win run a separate GA"
   ]
  },
  {
   "cell_type": "code",
   "execution_count": 18,
   "metadata": {},
   "outputs": [],
   "source": [
    "def geneticAlgorithmPlot(population, popSize, eliteSize, mutationRate, generations):\n",
    "    pop = initialPopulation(popSize, population)\n",
    "    progress = []\n",
    "    progress.append(1 / rankRoutes(pop)[0][1])\n",
    "    \n",
    "    for i in range(0, generations):\n",
    "        pop = nextGeneration(pop, eliteSize, mutationRate)\n",
    "        progress.append(1 / rankRoutes(pop)[0][1])\n",
    "    \n",
    "    plt.plot(progress)\n",
    "    plt.ylabel('Distance')\n",
    "    plt.xlabel('Generation')\n",
    "    plt.show()"
   ]
  },
  {
   "cell_type": "markdown",
   "metadata": {},
   "source": [
    "### Run the function with our assumptions to see how distance has improved in each generation\n",
    "\n",
    "É ótimo saber nossa distância inicial e final e a rota proposta, mas seria negligente não ver como nossa distância melhorou com o tempo. Com um simples ajuste para a nossa função geneticAlgorithm, podemos armazenar a menor distância de cada geração em uma lista progress e, em seguida, traçar os resultados.\n",
    "\n"
   ]
  },
  {
   "cell_type": "code",
   "execution_count": 19,
   "metadata": {},
   "outputs": [
    {
     "data": {
      "image/png": "[encoded data removed]",
      "text/plain": [
       "<Figure size 432x288 with 1 Axes>"
      ]
     },
     "metadata": {
      "needs_background": "light"
     },
     "output_type": "display_data"
    }
   ],
   "source": [
    "geneticAlgorithmPlot(population=cityList, popSize=100, eliteSize=20, mutationRate=0.01, generations=500)"
   ]
  },
  {
   "cell_type": "code",
   "execution_count": null,
   "metadata": {},
   "outputs": [],
   "source": []
  }
 ],
 "metadata": {
  "kernelspec": {
   "display_name": "Python 3",
   "language": "python",
   "name": "python3"
  },
  "language_info": {
   "codemirror_mode": {
    "name": "ipython",
    "version": 3
   },
   "file_extension": ".py",
   "mimetype": "text/x-python",
   "name": "python",
   "nbconvert_exporter": "python",
   "pygments_lexer": "ipython3",
   "version": "3.6.7"
  }
 },
 "nbformat": 4,
 "nbformat_minor": 2
}
