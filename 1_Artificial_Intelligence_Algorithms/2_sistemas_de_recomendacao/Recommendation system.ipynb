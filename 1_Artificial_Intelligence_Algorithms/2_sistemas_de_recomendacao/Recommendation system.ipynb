{
 "cells": [
  {
   "cell_type": "markdown",
   "metadata": {},
   "source": [
    "# Criando um sistema de recomendação de filmes"
   ]
  },
  {
   "cell_type": "markdown",
   "metadata": {},
   "source": [
    "explicação...\n",
    "\n",
    "[Inteligência Artificial: Sistemas de Recomendação em Python](https://iaexpert.academy/courses/sistemas-recomendacao-python/)"
   ]
  },
  {
   "cell_type": "code",
   "execution_count": 14,
   "metadata": {},
   "outputs": [],
   "source": [
    "avaliacoes = {'Ana': \n",
    "        {'Freddy x Jason': 2.5, \n",
    "         'O Ultimato Bourne': 3.5,\n",
    "         'Star Trek': 3.0, \n",
    "         'Exterminador do Futuro': 3.5, \n",
    "         'Norbit': 2.5, \n",
    "         'Star Wars': 3.0},\n",
    " \n",
    "      'Marcos': \n",
    "        {'Freddy x Jason': 3.0, \n",
    "         'O Ultimato Bourne': 3.5, \n",
    "         'Star Trek': 1.5, \n",
    "         'Exterminador do Futuro': 5.0, \n",
    "         'Star Wars': 3.0, \n",
    "         'Norbit': 3.5}, \n",
    "\n",
    "      'Pedro': \n",
    "        {'Freddy x Jason': 2.5, \n",
    "         'O Ultimato Bourne': 3.0,\n",
    "         'Exterminador do Futuro': 3.5, \n",
    "         'Star Wars': 4.0},\n",
    " \n",
    "      'Claudia': \n",
    "        {'O Ultimato Bourne': 3.5, \n",
    "         'Star Trek': 3.0,\n",
    "         'Star Wars': 4.5, \n",
    "         'Exterminador do Futuro': 4.0, \n",
    "         'Norbit': 2.5},\n",
    " \n",
    "      'Adriano': \n",
    "        {'Freddy x Jason': 3.0, \n",
    "         'O Ultimato Bourne': 4.0, \n",
    "         'Star Trek': 2.0, \n",
    "         'Exterminador do Futuro': 3.0, \n",
    "         'Star Wars': 3.0,\n",
    "         'Norbit': 2.0}, \n",
    "\n",
    "      'Janaina': \n",
    "         {'Freddy x Jason': 3.0, \n",
    "          'O Ultimato Bourne': 4.0,\n",
    "          'Star Wars': 3.0, \n",
    "          'Exterminador do Futuro': 5.0, \n",
    "          'Norbit': 3.5},\n",
    "  \n",
    "      'Leonardo': \n",
    "        {'O Ultimato Bourne':4.5,\n",
    "         'Norbit':1.0,\n",
    "         'Exterminador do Futuro':4.0}\n",
    "}"
   ]
  },
  {
   "cell_type": "markdown",
   "metadata": {},
   "source": [
    "## Testando o banco de dados"
   ]
  },
  {
   "cell_type": "code",
   "execution_count": 15,
   "metadata": {},
   "outputs": [
    {
     "data": {
      "text/plain": [
       "dict_keys(['Ana', 'Marcos', 'Pedro', 'Claudia', 'Adriano', 'Janaina', 'Leonardo'])"
      ]
     },
     "execution_count": 15,
     "metadata": {},
     "output_type": "execute_result"
    }
   ],
   "source": [
    "# acessando todos os usuários\n",
    "avaliacoes.keys()"
   ]
  },
  {
   "cell_type": "code",
   "execution_count": 16,
   "metadata": {},
   "outputs": [
    {
     "data": {
      "text/plain": [
       "dict_values([{'Freddy x Jason': 2.5, 'O Ultimato Bourne': 3.5, 'Star Trek': 3.0, 'Exterminador do Futuro': 3.5, 'Norbit': 2.5, 'Star Wars': 3.0}, {'Freddy x Jason': 3.0, 'O Ultimato Bourne': 3.5, 'Star Trek': 1.5, 'Exterminador do Futuro': 5.0, 'Star Wars': 3.0, 'Norbit': 3.5}, {'Freddy x Jason': 2.5, 'O Ultimato Bourne': 3.0, 'Exterminador do Futuro': 3.5, 'Star Wars': 4.0}, {'O Ultimato Bourne': 3.5, 'Star Trek': 3.0, 'Star Wars': 4.5, 'Exterminador do Futuro': 4.0, 'Norbit': 2.5}, {'Freddy x Jason': 3.0, 'O Ultimato Bourne': 4.0, 'Star Trek': 2.0, 'Exterminador do Futuro': 3.0, 'Star Wars': 3.0, 'Norbit': 2.0}, {'Freddy x Jason': 3.0, 'O Ultimato Bourne': 4.0, 'Star Wars': 3.0, 'Exterminador do Futuro': 5.0, 'Norbit': 3.5}, {'O Ultimato Bourne': 4.5, 'Norbit': 1.0, 'Exterminador do Futuro': 4.0}])"
      ]
     },
     "execution_count": 16,
     "metadata": {},
     "output_type": "execute_result"
    }
   ],
   "source": [
    "# acessando todas as avaliações dos usuários\n",
    "avaliacoes.values()"
   ]
  },
  {
   "cell_type": "code",
   "execution_count": 17,
   "metadata": {},
   "outputs": [
    {
     "data": {
      "text/plain": [
       "{'Freddy x Jason': 2.5,\n",
       " 'O Ultimato Bourne': 3.5,\n",
       " 'Star Trek': 3.0,\n",
       " 'Exterminador do Futuro': 3.5,\n",
       " 'Norbit': 2.5,\n",
       " 'Star Wars': 3.0}"
      ]
     },
     "execution_count": 17,
     "metadata": {},
     "output_type": "execute_result"
    }
   ],
   "source": [
    "# acessando todas as avaliações de um usuário específico\n",
    "avaliacoes['Ana']"
   ]
  },
  {
   "cell_type": "code",
   "execution_count": 18,
   "metadata": {},
   "outputs": [
    {
     "data": {
      "text/plain": [
       "3.0"
      ]
     },
     "execution_count": 18,
     "metadata": {},
     "output_type": "execute_result"
    }
   ],
   "source": [
    "# acessando uma avaliação específica de um usuário específico\n",
    "avaliacoes['Ana']['Star Wars']"
   ]
  },
  {
   "cell_type": "markdown",
   "metadata": {},
   "source": [
    "### Gráfico de dispersão"
   ]
  },
  {
   "cell_type": "code",
   "execution_count": null,
   "metadata": {},
   "outputs": [],
   "source": []
  },
  {
   "cell_type": "markdown",
   "metadata": {},
   "source": [
    "### Calculando a distância euclidiana\n",
    "\n",
    "![title](Euclidean_distance_2d.png)"
   ]
  },
  {
   "cell_type": "markdown",
   "metadata": {},
   "source": [
    "### Função .pow()\n",
    "\n",
    "A função .pow()retorna um valor à potência de outro.\n",
    "\n",
    "Exemplo:\n",
    "\n",
    "math.pow(x, y)\n",
    "\n",
    "Retorna x elevado à potência y. Os casos excepcionais seguem o Anexo ‘F’ da norma C99, tanto quanto possível. Em particular, pow(1.0, x) e pow(x, 0.0) sempre retornam 1.0, mesmo quando x é um zero ou um NaN. Se ambos x e y são finitos, x é negativo, e y não é um inteiro, então pow(x, y) é indefinido e levanta ValueError.\n",
    "\n",
    "Ao contrário do operador embutido **, math.pow() converte ambos os seus argumentos para o tipo float. Use ** ou a função embutida pow() para calcular potências inteiras exatas.\n",
    "\n",
    "[Referência](https://docs.python.org/pt-br/3/library/math.html)"
   ]
  },
  {
   "cell_type": "code",
   "execution_count": 21,
   "metadata": {},
   "outputs": [
    {
     "data": {
      "text/plain": [
       "25"
      ]
     },
     "execution_count": 21,
     "metadata": {},
     "output_type": "execute_result"
    }
   ],
   "source": [
    "# retornar 5 elevado a 2\n",
    "pow(5, 2)"
   ]
  },
  {
   "cell_type": "code",
   "execution_count": 24,
   "metadata": {},
   "outputs": [
    {
     "name": "stdout",
     "output_type": "stream",
     "text": [
      "0\n",
      "0.25\n"
     ]
    }
   ],
   "source": [
    "a = pow(3 - 3, 2)\n",
    "b = pow(3.5 - 4, 2)\n",
    "\n",
    "print(a)\n",
    "print(b)"
   ]
  },
  {
   "cell_type": "code",
   "execution_count": 25,
   "metadata": {},
   "outputs": [],
   "source": [
    "from math import sqrt"
   ]
  },
  {
   "cell_type": "code",
   "execution_count": 29,
   "metadata": {},
   "outputs": [
    {
     "name": "stdout",
     "output_type": "stream",
     "text": [
      "0.5\n",
      "2.1213203435596424\n"
     ]
    }
   ],
   "source": [
    "a = sqrt(pow(3 - 3, 2) + pow(3.5 - 4, 2))\n",
    "b = sqrt(pow(3 - 1.5, 2) + pow(3.5 - 5, 2))\n",
    "\n",
    "print(a)\n",
    "print(b)"
   ]
  },
  {
   "cell_type": "code",
   "execution_count": 30,
   "metadata": {},
   "outputs": [
    {
     "data": {
      "text/plain": [
       "0.47140452079103173"
      ]
     },
     "execution_count": 30,
     "metadata": {},
     "output_type": "execute_result"
    }
   ],
   "source": [
    "# ajuste para adaptar resultado para ficar numa escala de 0 a 1\n",
    "\n",
    "1/sqrt(pow(3 - 1.5, 2) + pow(3.5 - 5, 2))"
   ]
  },
  {
   "cell_type": "markdown",
   "metadata": {},
   "source": [
    "47 % de similaridade"
   ]
  },
  {
   "cell_type": "code",
   "execution_count": null,
   "metadata": {},
   "outputs": [],
   "source": []
  }
 ],
 "metadata": {
  "kernelspec": {
   "display_name": "Python 3",
   "language": "python",
   "name": "python3"
  },
  "language_info": {
   "codemirror_mode": {
    "name": "ipython",
    "version": 3
   },
   "file_extension": ".py",
   "mimetype": "text/x-python",
   "name": "python",
   "nbconvert_exporter": "python",
   "pygments_lexer": "ipython3",
   "version": "3.8.5"
  }
 },
 "nbformat": 4,
 "nbformat_minor": 4
}
