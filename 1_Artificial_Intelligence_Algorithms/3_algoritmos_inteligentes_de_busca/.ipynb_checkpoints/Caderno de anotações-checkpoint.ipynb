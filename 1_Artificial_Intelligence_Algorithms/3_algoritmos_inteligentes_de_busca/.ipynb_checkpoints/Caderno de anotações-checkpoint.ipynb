{
 "cells": [
  {
   "cell_type": "markdown",
   "metadata": {},
   "source": [
    "# Implementação do mapa das cidades"
   ]
  },
  {
   "cell_type": "markdown",
   "metadata": {},
   "source": [
    "## Introdução a grafos\n",
    "\n",
    "fonte: [Entendendo algoritmos](https://adit.io/)\n",
    "\n",
    "O algoritmo de grafos é aplicável a diversas situações.\n",
    "\n",
    ">>imagem_exemplo\n"
   ]
  },
  {
   "cell_type": "markdown",
   "metadata": {},
   "source": [
    "## O que é um grafo?\n",
    "\n",
    "Um modelo de grafo é um conjunto de conexões. Cada grafo é constituído de vértices e arestas.\n",
    "\n",
    "Um vértice pode estar conectado a muitos outros. Quando um vértice aponta para outro os chamamos de vizinhos."
   ]
  },
  {
   "cell_type": "markdown",
   "metadata": {},
   "source": [
    "## Implementando um grafo\n",
    "\n",
    ">> imagem_exemplo_p_126\n",
    "\n",
    "Um grafo consiste de diversos vértices. Cada vértice é conectado aos vértices vizinhos. Para expressar esta relação, podemos utilizar a estrutura de dados da [tabela hash](https://en.wikipedia.org/wiki/Hash_table)\n",
    "\n",
    "A tabela hash nos permite mapear um vértice a todos os seus vizinhos (a tabela hash nos permite mapear uma chave a um valor, resumidamente).\n",
    "\n",
    "*Tabelas hash também são conhecidas como mapas hash, mapas, dicionários (em [Python](https://docs.python.org/3/tutorial/datastructures.html)) e tabelas de dispersão*"
   ]
  },
  {
   "cell_type": "code",
   "execution_count": 9,
   "metadata": {},
   "outputs": [],
   "source": [
    "# exemplo em python\n",
    "\n",
    "grafo = {}\n",
    "\n",
    "grafo['cidade1'] = ['cidade2', 'cidade3', 'cidade15']\n",
    "grafo['cidade2'] = ['cidade1', 'cidade4']\n",
    "grafo['cidade3'] = ['cidade1', 'cidade12', 'cidade16']"
   ]
  },
  {
   "cell_type": "markdown",
   "metadata": {},
   "source": [
    "Note que 'cidade1' é mapeada para um vetor. Logo grafo ['cidade1'] dará um vetor de todos os vizinhos de 'cidade1'.\n",
    "\n",
    "Resumindo: um GRAFO é um monte de vértices e arestas, portanto isso é tudo que precisamos saber para implementar um grafo em Python."
   ]
  },
  {
   "cell_type": "markdown",
   "metadata": {},
   "source": [
    "#### A ordem que adicionamos os pares chave/valor faz diferença?\n",
    "\n",
    "Ex.:\n",
    "\n",
    "```python\n",
    "grafo['cidade1'] = ['cidade2', 'cidade3', 'cidade15']\n",
    "grafo['cidade2'] = ['cidade1', 'cidade4']\n",
    "```\n",
    "\n",
    "em vez de\n",
    "\n",
    "```python\n",
    "grafo['cidade2'] = ['cidade1', 'cidade4']\n",
    "grafo['cidade1'] = ['cidade2', 'cidade3', 'cidade15']\n",
    "```\n",
    "\n",
    "Resposta: NÃO, pois as tabelas hash não são ordenadas."
   ]
  },
  {
   "cell_type": "code",
   "execution_count": 10,
   "metadata": {},
   "outputs": [
    {
     "data": {
      "text/plain": [
       "{'cidade1': ['cidade2', 'cidade3', 'cidade15'],\n",
       " 'cidade2': ['cidade1', 'cidade4'],\n",
       " 'cidade3': ['cidade1', 'cidade12', 'cidade16']}"
      ]
     },
     "execution_count": 10,
     "metadata": {},
     "output_type": "execute_result"
    }
   ],
   "source": [
    "# testando grafo\n",
    "\n",
    "grafo"
   ]
  },
  {
   "cell_type": "code",
   "execution_count": 11,
   "metadata": {},
   "outputs": [
    {
     "data": {
      "text/plain": [
       "['cidade2', 'cidade3', 'cidade15']"
      ]
     },
     "execution_count": 11,
     "metadata": {},
     "output_type": "execute_result"
    }
   ],
   "source": [
    "grafo['cidade1']"
   ]
  },
  {
   "cell_type": "code",
   "execution_count": 12,
   "metadata": {},
   "outputs": [
    {
     "data": {
      "text/plain": [
       "['cidade1', 'cidade2', 'cidade3']"
      ]
     },
     "execution_count": 12,
     "metadata": {},
     "output_type": "execute_result"
    }
   ],
   "source": [
    "list(grafo)"
   ]
  },
  {
   "cell_type": "code",
   "execution_count": 13,
   "metadata": {},
   "outputs": [
    {
     "data": {
      "text/plain": [
       "['cidade1', 'cidade2', 'cidade3']"
      ]
     },
     "execution_count": 13,
     "metadata": {},
     "output_type": "execute_result"
    }
   ],
   "source": [
    "sorted(grafo)"
   ]
  },
  {
   "cell_type": "code",
   "execution_count": 14,
   "metadata": {},
   "outputs": [
    {
     "data": {
      "text/plain": [
       "True"
      ]
     },
     "execution_count": 14,
     "metadata": {},
     "output_type": "execute_result"
    }
   ],
   "source": [
    "'cidade1' in grafo"
   ]
  },
  {
   "cell_type": "code",
   "execution_count": 15,
   "metadata": {},
   "outputs": [
    {
     "data": {
      "text/plain": [
       "True"
      ]
     },
     "execution_count": 15,
     "metadata": {},
     "output_type": "execute_result"
    }
   ],
   "source": [
    "'cidade4' not in grafo"
   ]
  },
  {
   "cell_type": "markdown",
   "metadata": {},
   "source": [
    "## Implementação do Mapa (curso)"
   ]
  },
  {
   "cell_type": "code",
   "execution_count": 21,
   "metadata": {},
   "outputs": [
    {
     "name": "stdout",
     "output_type": "stream",
     "text": [
      "teste\n",
      "False\n"
     ]
    }
   ],
   "source": [
    "class Cidade:\n",
    "    def __init__(self, nome):    # construtor da nossa classe\n",
    "        self.nome = nome         #criando atributo para esta classe\n",
    "        self.visitado = False\n",
    "        self.adjacentes = []     # lista de cidades adjacentes\n",
    "        \n",
    "    def addCidadeAdjacente(self, cidade):\n",
    "        self.adjacentes.append(cidade)\n",
    "        \n",
    "#teste\n",
    "\n",
    "#c = Cidade('teste')\n",
    "#print(c.nome)\n",
    "#print(c.visitado)"
   ]
  },
  {
   "cell_type": "code",
   "execution_count": 17,
   "metadata": {},
   "outputs": [],
   "source": [
    "class Adjacente:\n",
    "    def __init__ (self, cidade):\n",
    "        self.cidade = cidade"
   ]
  },
  {
   "cell_type": "code",
   "execution_count": 19,
   "metadata": {},
   "outputs": [],
   "source": [
    "from Cidade import Cidade\n",
    "from Adjacente import Adjacente\n",
    "\n",
    "class Mapa:\n",
    "    cidade1 = Cidade('Cidade 1')\n",
    "    cidade2 = Cidade('Cidade 2')\n",
    "    cidade3 = Cidade('Cidade 3')\n",
    "    cidade4 = Cidade('Cidade 4')\n",
    "    cidade5 = Cidade('Cidade 5')\n",
    "    cidade6 = Cidade('Cidade 6')\n",
    "    cidade7 = Cidade('Cidade 7')\n",
    "    cidade8 = Cidade('Cidade 8')\n",
    "    cidade9 = Cidade('Cidade 9')\n",
    "    cidade10 = Cidade('Cidade 10')\n",
    "    cidade11 = Cidade('Cidade 11')\n",
    "    cidade12 = Cidade('Cidade 12')\n",
    "    cidade13 = Cidade('Cidade 13')\n",
    "    cidade14 = Cidade('Cidade 14')\n",
    "    cidade15 = Cidade('Cidade 15')\n",
    "    cidade16 = Cidade('Cidade 16')\n",
    "    \n",
    "    cidade1.addCidadeAdjacente(Adjacente(cidade2))\n",
    "    cidade1.addCidadeAdjacente(Adjacente(cidade3))\n",
    "    cidade1.addCidadeAdjacente(Adjacente(cidade15))\n",
    "    \n",
    "    cidade2.addCidadeAdjacente(Adjacente(cidade1))\n",
    "    cidade2.addCidadeAdjacente(Adjacente(cidade4))\n",
    "    \n",
    "    cidade3.addCidadeAdjacente(Adjacente(cidade1))\n",
    "    cidade3.addCidadeAdjacente(Adjacente(cidade16))\n",
    "    cidade3.addCidadeAdjacente(Adjacente(cidade12))\n",
    "    \n",
    "    cidade4.addCidadeAdjacente(Adjacente(cidade2))\n",
    "    cidade4.addCidadeAdjacente(Adjacente(cidade5))\n",
    "    cidade4.addCidadeAdjacente(Adjacente(cidade15))\n",
    "    \n",
    "    cidade5.addCidadeAdjacente(Adjacente(cidade4))\n",
    "    cidade5.addCidadeAdjacente(Adjacente(cidade6))\n",
    "    cidade5.addCidadeAdjacente(Adjacente(cidade15))\n",
    "    \n",
    "    cidade6.addCidadeAdjacente(Adjacente(cidade5))\n",
    "    cidade6.addCidadeAdjacente(Adjacente(cidade7))\n",
    "    cidade6.addCidadeAdjacente(Adjacente(cidade8))\n",
    "    \n",
    "    cidade7.addCidadeAdjacente(Adjacente(cidade6))\n",
    "    cidade7.addCidadeAdjacente(Adjacente(cidade8))\n",
    "    cidade7.addCidadeAdjacente(Adjacente(cidade9))\n",
    "    cidade7.addCidadeAdjacente(Adjacente(cidade10))\n",
    "    \n",
    "    cidade8.addCidadeAdjacente(Adjacente(cidade6))\n",
    "    cidade8.addCidadeAdjacente(Adjacente(cidade7))\n",
    "    cidade8.addCidadeAdjacente(Adjacente(cidade11))\n",
    "    \n",
    "    cidade9.addCidadeAdjacente(Adjacente(cidade7))\n",
    "    cidade9.addCidadeAdjacente(Adjacente(cidade11))\n",
    "    \n",
    "    cidade10.addCidadeAdjacente(Adjacente(cidade7))\n",
    "    cidade10.addCidadeAdjacente(Adjacente(cidade13))\n",
    "    \n",
    "    cidade11.addCidadeAdjacente(Adjacente(cidade8))\n",
    "    cidade11.addCidadeAdjacente(Adjacente(cidade9))\n",
    "    cidade11.addCidadeAdjacente(Adjacente(cidade14))\n",
    "    \n",
    "    cidade12.addCidadeAdjacente(Adjacente(cidade3))\n",
    "    cidade12.addCidadeAdjacente(Adjacente(cidade13))\n",
    "    cidade12.addCidadeAdjacente(Adjacente(cidade14))\n",
    "    \n",
    "    cidade13.addCidadeAdjacente(Adjacente(cidade10))\n",
    "    cidade13.addCidadeAdjacente(Adjacente(cidade12))\n",
    "    \n",
    "    cidade14.addCidadeAdjacente(Adjacente(cidade11))\n",
    "    cidade14.addCidadeAdjacente(Adjacente(cidade12))\n",
    "    cidade14.addCidadeAdjacente(Adjacente(cidade15))\n",
    "    \n",
    "    cidade15.addCidadeAdjacente(Adjacente(cidade1))\n",
    "    cidade15.addCidadeAdjacente(Adjacente(cidade2))\n",
    "    cidade15.addCidadeAdjacente(Adjacente(cidade5))\n",
    "    cidade15.addCidadeAdjacente(Adjacente(cidade14))\n",
    "    cidade15.addCidadeAdjacente(Adjacente(cidade16))\n",
    "    \n",
    "    cidade16.addCidadeAdjacente(Adjacente(cidade3))\n",
    "    cidade16.addCidadeAdjacente(Adjacente(cidade15))   \n",
    "\n"
   ]
  },
  {
   "cell_type": "code",
   "execution_count": 20,
   "metadata": {},
   "outputs": [
    {
     "name": "stdout",
     "output_type": "stream",
     "text": [
      "Cidade 1\n",
      "False\n",
      "[<Adjacente.Adjacente object at 0x000002008F688160>, <Adjacente.Adjacente object at 0x000002008F6881C0>, <Adjacente.Adjacente object at 0x000002008F688220>]\n",
      "Cidade 2\n",
      "Cidade 3\n",
      "Cidade 15\n"
     ]
    }
   ],
   "source": [
    "# testes\n",
    "mapa = Mapa()\n",
    "\n",
    "nome = mapa.cidade1.nome\n",
    "print(nome)\n",
    "\n",
    "visitado = mapa.cidade1.visitado\n",
    "print(visitado)\n",
    "\n",
    "adj = mapa.cidade1.adjacentes\n",
    "print(adj)\n",
    "\n",
    "for cidade in range(len(mapa.cidade1.adjacentes)):\n",
    "    print(mapa.cidade1.adjacentes[cidade].cidade.nome)"
   ]
  },
  {
   "cell_type": "markdown",
   "metadata": {},
   "source": [
    "## Implementado grafo de maneira diferente"
   ]
  },
  {
   "cell_type": "code",
   "execution_count": 22,
   "metadata": {},
   "outputs": [],
   "source": [
    "mapa = {}     # nosso grafo\n",
    "\n",
    "mapa['cidade1'] = ['cidade2', 'cidade3', 'cidade15']\n",
    "mapa['cidade2'] = ['cidade1', 'cidade4']\n",
    "mapa['cidade3'] = ['cidade1', 'cidade12', 'cidade16']\n",
    "mapa['cidade4'] = ['cidade2', 'cidade5', 'cidade15']\n",
    "mapa['cidade5'] = ['cidade4', 'cidade6', 'cidade15']         \n",
    "mapa['cidade6'] = ['cidade5', 'cidade7', 'cidade8']\n",
    "mapa['cidade7'] = ['cidade6', 'cidade8', 'cidade9', 'cidade10']\n",
    "mapa['cidade8'] = ['cidade6', 'cidade7', 'cidade11']\n",
    "mapa['cidade9'] = ['cidade7', 'cidade11']\n",
    "mapa['cidade10'] = ['cidade7', 'cidade13']\n",
    "mapa['cidade11'] = ['cidade8', 'cidade9', 'cidade14']\n",
    "mapa['cidade12'] = ['cidade3', 'cidade13', 'cidade14']    \n",
    "mapa['cidade13'] = ['cidade10', 'cidade12']\n",
    "mapa['cidade14'] = ['cidade11', 'cidade12', 'cidade15']\n",
    "mapa['cidade15'] = ['cidade1', 'cidade2', 'cidade5', 'cidade14', 'cidade16']\n",
    "mapa['cidade16'] = ['cidade3', 'cidade15']    \n"
   ]
  },
  {
   "cell_type": "code",
   "execution_count": 25,
   "metadata": {},
   "outputs": [
    {
     "data": {
      "text/plain": [
       "['cidade2', 'cidade3', 'cidade15']"
      ]
     },
     "execution_count": 25,
     "metadata": {},
     "output_type": "execute_result"
    }
   ],
   "source": [
    "# teste\n",
    "\n",
    "mapa['cidade1']\n"
   ]
  },
  {
   "cell_type": "code",
   "execution_count": 27,
   "metadata": {},
   "outputs": [
    {
     "name": "stdout",
     "output_type": "stream",
     "text": [
      "cidade2\n",
      "cidade3\n",
      "cidade15\n"
     ]
    }
   ],
   "source": [
    "for cidade in mapa['cidade1']:\n",
    "    print(cidade)"
   ]
  },
  {
   "cell_type": "code",
   "execution_count": null,
   "metadata": {},
   "outputs": [],
   "source": []
  }
 ],
 "metadata": {
  "kernelspec": {
   "display_name": "Python 3",
   "language": "python",
   "name": "python3"
  },
  "language_info": {
   "codemirror_mode": {
    "name": "ipython",
    "version": 3
   },
   "file_extension": ".py",
   "mimetype": "text/x-python",
   "name": "python",
   "nbconvert_exporter": "python",
   "pygments_lexer": "ipython3",
   "version": "3.8.5"
  }
 },
 "nbformat": 4,
 "nbformat_minor": 4
}
