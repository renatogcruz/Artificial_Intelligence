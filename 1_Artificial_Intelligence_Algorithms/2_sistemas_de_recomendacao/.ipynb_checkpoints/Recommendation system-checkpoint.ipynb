{
 "cells": [
  {
   "cell_type": "markdown",
   "metadata": {},
   "source": [
    "# Criando um sistema de recomendação de filmes"
   ]
  },
  {
   "cell_type": "markdown",
   "metadata": {},
   "source": [
    "explicação...\n",
    "\n",
    "[Inteligência Artificial: Sistemas de Recomendação em Python](https://iaexpert.academy/courses/sistemas-recomendacao-python/)"
   ]
  },
  {
   "cell_type": "markdown",
   "metadata": {},
   "source": [
    "|              |Freddy x Jason |O Ultimato Bourne |Star Trek |Exterminador do Futuro |Norbit   |Star Wars   |\n",
    "|:------------:|:----------:|:----------:|:----------:|:----------:|:----------:|:----------:|\n",
    "|Ana           | 2.5        |  3.5       |  3.0     |  3.5     | 2.5      | 3.0      |\n",
    "|Marcos        | 3.0        |  3.5       |  1.5     |  5.0     | 3.0      | 3.5      |\n",
    "|Pedro         | 2.5        |  3.0       |          |  3.5     |          | 4.0      | \n",
    "|Claudia       |            |  3.5       |  3.0     |  4.0     | 2.5      | 4.5      |\n",
    "|Adriano       | 3.0        |  4.0       |  2.0     |  3.0     | 2.0      | 3.0      |\n",
    "|Janaina       | 3.0        |  4.0       |          |  5.0     | 3.5      | 3.0      |\n",
    "|Leonardo      |            |  4.5       |          |  4.0     | 1.0      |          |"
   ]
  },
  {
   "cell_type": "code",
   "execution_count": 46,
   "metadata": {},
   "outputs": [],
   "source": [
    "avaliacoesUsuarios = {'Ana': \n",
    "        {'Freddy x Jason': 2.5, \n",
    "         'O Ultimato Bourne': 3.5,\n",
    "         'Star Trek': 3.0, \n",
    "         'Exterminador do Futuro': 3.5, \n",
    "         'Norbit': 2.5, \n",
    "         'Star Wars': 3.0},\n",
    " \n",
    "      'Marcos': \n",
    "        {'Freddy x Jason': 3.0, \n",
    "         'O Ultimato Bourne': 3.5, \n",
    "         'Star Trek': 1.5, \n",
    "         'Exterminador do Futuro': 5.0, \n",
    "         'Star Wars': 3.0, \n",
    "         'Norbit': 3.5}, \n",
    "\n",
    "      'Pedro': \n",
    "        {'Freddy x Jason': 2.5, \n",
    "         'O Ultimato Bourne': 3.0,\n",
    "         'Exterminador do Futuro': 3.5, \n",
    "         'Star Wars': 4.0},\n",
    " \n",
    "      'Claudia': \n",
    "        {'O Ultimato Bourne': 3.5, \n",
    "         'Star Trek': 3.0,\n",
    "         'Star Wars': 4.5, \n",
    "         'Exterminador do Futuro': 4.0, \n",
    "         'Norbit': 2.5},\n",
    " \n",
    "      'Adriano': \n",
    "        {'Freddy x Jason': 3.0, \n",
    "         'O Ultimato Bourne': 4.0, \n",
    "         'Star Trek': 2.0, \n",
    "         'Exterminador do Futuro': 3.0, \n",
    "         'Star Wars': 3.0,\n",
    "         'Norbit': 2.0}, \n",
    "\n",
    "      'Janaina': \n",
    "         {'Freddy x Jason': 3.0, \n",
    "          'O Ultimato Bourne': 4.0,\n",
    "          'Star Wars': 3.0, \n",
    "          'Exterminador do Futuro': 5.0, \n",
    "          'Norbit': 3.5},\n",
    "  \n",
    "      'Leonardo': \n",
    "        {'O Ultimato Bourne':4.5,\n",
    "         'Norbit':1.0,\n",
    "         'Exterminador do Futuro':4.0}\n",
    "}"
   ]
  },
  {
   "cell_type": "markdown",
   "metadata": {},
   "source": [
    "# Testando o banco de dados"
   ]
  },
  {
   "cell_type": "code",
   "execution_count": 2,
   "metadata": {},
   "outputs": [
    {
     "data": {
      "text/plain": [
       "dict_keys(['Ana', 'Marcos', 'Pedro', 'Claudia', 'Adriano', 'Janaina', 'Leonardo'])"
      ]
     },
     "execution_count": 2,
     "metadata": {},
     "output_type": "execute_result"
    }
   ],
   "source": [
    "# acessando todos os usuários\n",
    "avaliacoes.keys()"
   ]
  },
  {
   "cell_type": "code",
   "execution_count": 3,
   "metadata": {},
   "outputs": [
    {
     "data": {
      "text/plain": [
       "dict_values([{'Freddy x Jason': 2.5, 'O Ultimato Bourne': 3.5, 'Star Trek': 3.0, 'Exterminador do Futuro': 3.5, 'Norbit': 2.5, 'Star Wars': 3.0}, {'Freddy x Jason': 3.0, 'O Ultimato Bourne': 3.5, 'Star Trek': 1.5, 'Exterminador do Futuro': 5.0, 'Star Wars': 3.0, 'Norbit': 3.5}, {'Freddy x Jason': 2.5, 'O Ultimato Bourne': 3.0, 'Exterminador do Futuro': 3.5, 'Star Wars': 4.0}, {'O Ultimato Bourne': 3.5, 'Star Trek': 3.0, 'Star Wars': 4.5, 'Exterminador do Futuro': 4.0, 'Norbit': 2.5}, {'Freddy x Jason': 3.0, 'O Ultimato Bourne': 4.0, 'Star Trek': 2.0, 'Exterminador do Futuro': 3.0, 'Star Wars': 3.0, 'Norbit': 2.0}, {'Freddy x Jason': 3.0, 'O Ultimato Bourne': 4.0, 'Star Wars': 3.0, 'Exterminador do Futuro': 5.0, 'Norbit': 3.5}, {'O Ultimato Bourne': 4.5, 'Norbit': 1.0, 'Exterminador do Futuro': 4.0}])"
      ]
     },
     "execution_count": 3,
     "metadata": {},
     "output_type": "execute_result"
    }
   ],
   "source": [
    "# acessando todas as avaliações dos usuários\n",
    "avaliacoes.values()"
   ]
  },
  {
   "cell_type": "code",
   "execution_count": 4,
   "metadata": {},
   "outputs": [
    {
     "data": {
      "text/plain": [
       "{'Freddy x Jason': 2.5,\n",
       " 'O Ultimato Bourne': 3.5,\n",
       " 'Star Trek': 3.0,\n",
       " 'Exterminador do Futuro': 3.5,\n",
       " 'Norbit': 2.5,\n",
       " 'Star Wars': 3.0}"
      ]
     },
     "execution_count": 4,
     "metadata": {},
     "output_type": "execute_result"
    }
   ],
   "source": [
    "# acessando todas as avaliações de um usuário específico\n",
    "avaliacoes['Ana']"
   ]
  },
  {
   "cell_type": "code",
   "execution_count": 5,
   "metadata": {},
   "outputs": [
    {
     "name": "stdout",
     "output_type": "stream",
     "text": [
      "Freddy x Jason foi avaliado com nota\n",
      "O Ultimato Bourne foi avaliado com nota\n",
      "Star Trek foi avaliado com nota\n",
      "Exterminador do Futuro foi avaliado com nota\n",
      "Norbit foi avaliado com nota\n",
      "Star Wars foi avaliado com nota\n"
     ]
    }
   ],
   "source": [
    "for filmes in avaliacoes['Ana']:\n",
    "    print(f\"{filmes} foi avaliado com nota\")\n"
   ]
  },
  {
   "cell_type": "code",
   "execution_count": 6,
   "metadata": {},
   "outputs": [
    {
     "data": {
      "text/plain": [
       "3.0"
      ]
     },
     "execution_count": 6,
     "metadata": {},
     "output_type": "execute_result"
    }
   ],
   "source": [
    "# acessando uma avaliação específica de um usuário específico\n",
    "avaliacoes['Ana']['Star Wars']"
   ]
  },
  {
   "cell_type": "markdown",
   "metadata": {},
   "source": [
    "# Analisando o banco de dados num gráfico de dispersão\n",
    "\n"
   ]
  },
  {
   "cell_type": "code",
   "execution_count": 7,
   "metadata": {},
   "outputs": [],
   "source": [
    "# importando bibliotecas\n",
    "\n",
    "import numpy as np\n",
    "import matplotlib.pyplot as plt"
   ]
  },
  {
   "cell_type": "code",
   "execution_count": 8,
   "metadata": {},
   "outputs": [
    {
     "name": "stdout",
     "output_type": "stream",
     "text": [
      "Ana\n",
      "Marcos\n",
      "Pedro\n",
      "Claudia\n",
      "Adriano\n",
      "Janaina\n",
      "Leonardo\n"
     ]
    }
   ],
   "source": [
    "# percorrendo por todos os usuários\n",
    "for usuario in avaliacoes.keys():\n",
    "    print(usuario)"
   ]
  },
  {
   "cell_type": "code",
   "execution_count": 9,
   "metadata": {},
   "outputs": [
    {
     "name": "stdout",
     "output_type": "stream",
     "text": [
      "{'Freddy x Jason': 2.5, 'O Ultimato Bourne': 3.5, 'Star Trek': 3.0, 'Exterminador do Futuro': 3.5, 'Norbit': 2.5, 'Star Wars': 3.0}\n",
      "{'Freddy x Jason': 3.0, 'O Ultimato Bourne': 3.5, 'Star Trek': 1.5, 'Exterminador do Futuro': 5.0, 'Star Wars': 3.0, 'Norbit': 3.5}\n",
      "{'Freddy x Jason': 2.5, 'O Ultimato Bourne': 3.0, 'Exterminador do Futuro': 3.5, 'Star Wars': 4.0}\n",
      "{'O Ultimato Bourne': 3.5, 'Star Trek': 3.0, 'Star Wars': 4.5, 'Exterminador do Futuro': 4.0, 'Norbit': 2.5}\n",
      "{'Freddy x Jason': 3.0, 'O Ultimato Bourne': 4.0, 'Star Trek': 2.0, 'Exterminador do Futuro': 3.0, 'Star Wars': 3.0, 'Norbit': 2.0}\n",
      "{'Freddy x Jason': 3.0, 'O Ultimato Bourne': 4.0, 'Star Wars': 3.0, 'Exterminador do Futuro': 5.0, 'Norbit': 3.5}\n",
      "{'O Ultimato Bourne': 4.5, 'Norbit': 1.0, 'Exterminador do Futuro': 4.0}\n"
     ]
    }
   ],
   "source": [
    "# percorrendo pela avalação do primeiro filme de todos os usuários\n",
    "var = 'O Ultimato Bourne'\n",
    "\n",
    "for filmes in avaliacoes.values():\n",
    "    print(filmes)\n",
    " "
   ]
  },
  {
   "cell_type": "code",
   "execution_count": 10,
   "metadata": {},
   "outputs": [
    {
     "name": "stdout",
     "output_type": "stream",
     "text": [
      "O Ultimato Bourne\n",
      "O Ultimato Bourne\n",
      "O Ultimato Bourne\n",
      "O Ultimato Bourne\n",
      "O Ultimato Bourne\n",
      "O Ultimato Bourne\n",
      "O Ultimato Bourne\n"
     ]
    }
   ],
   "source": [
    "# percorrendo pela avalação do primeiro filme de todos os usuários\n",
    "for filmes in avaliacoes.values():\n",
    "    for filme in filmes.keys():\n",
    "        if filme == 'O Ultimato Bourne':            \n",
    "            print(filme)\n",
    "### PRECISO ACESSAR A NOTA DESSE FILME ESPECIFICO   "
   ]
  },
  {
   "cell_type": "code",
   "execution_count": 11,
   "metadata": {},
   "outputs": [
    {
     "data": {
      "text/plain": [
       "\"\\nfor key, value in dic.items():\\n    ax.scatter(avaliacoes.keys(),avaliacoes.value(),label=key)\\n\\n    plt.xlabel('x-axis')\\nplt.ylabel('y-axis')\\nplt.legend()\\n\\n\""
      ]
     },
     "execution_count": 11,
     "metadata": {},
     "output_type": "execute_result"
    }
   ],
   "source": [
    "# plotando um gráfico de dispersão de notas do filme 'O Ultimato Bourne'\n",
    "\n",
    "\"\"\"\n",
    "for key, value in dic.items():\n",
    "    ax.scatter(avaliacoes.keys(),avaliacoes.value(),label=key)\n",
    "\n",
    "    plt.xlabel('x-axis')\n",
    "plt.ylabel('y-axis')\n",
    "plt.legend()\n",
    "\n",
    "\"\"\""
   ]
  },
  {
   "cell_type": "code",
   "execution_count": 12,
   "metadata": {},
   "outputs": [],
   "source": [
    "# analisando notas do filme Bourne\n",
    "\n",
    "Bourne = {'Ana': 3.5,'Marcos': 3.5,'Pedro': 3.0,'Claudia': 3.5,'Adriano': 4.0,'Janaina': 4.0,'Leonardo': 4.5}"
   ]
  },
  {
   "cell_type": "code",
   "execution_count": 13,
   "metadata": {},
   "outputs": [
    {
     "data": {
      "image/png": "[encoded data removed]",
      "text/plain": [
       "<Figure size 432x288 with 1 Axes>"
      ]
     },
     "metadata": {
      "needs_background": "light"
     },
     "output_type": "display_data"
    }
   ],
   "source": [
    "plt.bar(Bourne.keys(), Bourne.values())\n",
    "plt.show()"
   ]
  },
  {
   "cell_type": "markdown",
   "metadata": {},
   "source": [
    "# Calculando a distância euclidiana\n",
    "\n",
    "Explicação ...\n",
    "\n",
    "![title](Euclidean_distance_2d.png)\n",
    "\n",
    "\n",
    "Continuação da explicação ..."
   ]
  },
  {
   "cell_type": "markdown",
   "metadata": {},
   "source": [
    "### Função .pow()\n",
    "\n",
    "A função .pow()retorna um valor à potência de outro.\n",
    "\n",
    "Exemplo:\n",
    "\n",
    "math.pow(x, y)\n",
    "\n",
    "Retorna x elevado à potência y. Os casos excepcionais seguem o Anexo ‘F’ da norma C99, tanto quanto possível. Em particular, pow(1.0, x) e pow(x, 0.0) sempre retornam 1.0, mesmo quando x é um zero ou um NaN. Se ambos x e y são finitos, x é negativo, e y não é um inteiro, então pow(x, y) é indefinido e levanta ValueError.\n",
    "\n",
    "Ao contrário do operador embutido **, math.pow() converte ambos os seus argumentos para o tipo float. Use ** ou a função embutida pow() para calcular potências inteiras exatas.\n",
    "\n",
    "[Referência](https://docs.python.org/pt-br/3/library/math.html)"
   ]
  },
  {
   "cell_type": "code",
   "execution_count": 14,
   "metadata": {},
   "outputs": [
    {
     "data": {
      "text/plain": [
       "25"
      ]
     },
     "execution_count": 14,
     "metadata": {},
     "output_type": "execute_result"
    }
   ],
   "source": [
    "# retornar 5 elevado a 2\n",
    "pow(5, 2)"
   ]
  },
  {
   "cell_type": "code",
   "execution_count": 15,
   "metadata": {},
   "outputs": [
    {
     "name": "stdout",
     "output_type": "stream",
     "text": [
      "0\n",
      "0.25\n"
     ]
    }
   ],
   "source": [
    "a = pow(3 - 3, 2)\n",
    "b = pow(3.5 - 4, 2)\n",
    "\n",
    "print(a)\n",
    "print(b)"
   ]
  },
  {
   "cell_type": "code",
   "execution_count": 16,
   "metadata": {},
   "outputs": [],
   "source": [
    "from math import sqrt"
   ]
  },
  {
   "cell_type": "code",
   "execution_count": 17,
   "metadata": {},
   "outputs": [
    {
     "name": "stdout",
     "output_type": "stream",
     "text": [
      "0.5\n",
      "2.1213203435596424\n"
     ]
    }
   ],
   "source": [
    "a = sqrt(pow(3 - 3, 2) + pow(3.5 - 4, 2))\n",
    "b = sqrt(pow(3 - 1.5, 2) + pow(3.5 - 5, 2))\n",
    "\n",
    "print(a)\n",
    "print(b)"
   ]
  },
  {
   "cell_type": "code",
   "execution_count": 18,
   "metadata": {},
   "outputs": [
    {
     "data": {
      "text/plain": [
       "0.47140452079103173"
      ]
     },
     "execution_count": 18,
     "metadata": {},
     "output_type": "execute_result"
    }
   ],
   "source": [
    "# ajuste para adaptar resultado para ficar numa escala de 0 a 1\n",
    "\n",
    "1/sqrt(pow(3 - 1.5, 2) + pow(3.5 - 5, 2))"
   ]
  },
  {
   "cell_type": "markdown",
   "metadata": {},
   "source": [
    "47 % de similaridade"
   ]
  },
  {
   "cell_type": "markdown",
   "metadata": {},
   "source": [
    "## Função para distância euclidiana\n",
    "\n",
    "Agora, voltando ao banco de dados. Faremos uma função para calcular a distância euclidiana"
   ]
  },
  {
   "cell_type": "code",
   "execution_count": 50,
   "metadata": {},
   "outputs": [],
   "source": [
    "def euclidiana(base, usuario1, usuario2):\n",
    "    si = {}                                             # lista de similaridade\n",
    "    for item in base[usuario1]:                         # item = filme #base == avaliacoes)\n",
    "        if item in base[usuario2]: si[item] = 1   # verifica se o item(filme) também foi avaliado pelo usuário 2\n",
    "    \n",
    "    if len(si) == 0: return 0\n",
    "    \n",
    "    soma = sum([pow(base[usuario1][item] - base[usuario2][item], 2)\n",
    "                   for item in base[usuario1] if item in base[usuario2]])     \n",
    "    \n",
    "    return 1/(1 + sqrt(soma))                           # porcentagem de similaridade\n",
    "\n",
    " "
   ]
  },
  {
   "cell_type": "code",
   "execution_count": 51,
   "metadata": {},
   "outputs": [
    {
     "data": {
      "text/plain": [
       "0.3483314773547883"
      ]
     },
     "execution_count": 51,
     "metadata": {},
     "output_type": "execute_result"
    }
   ],
   "source": [
    "# testando a função para distância euclidiana\n",
    "\n",
    "euclidiana(avaliacoesUsuarios, 'Leonardo', 'Ana')"
   ]
  },
  {
   "cell_type": "code",
   "execution_count": 53,
   "metadata": {},
   "outputs": [
    {
     "data": {
      "text/plain": [
       "0.28172904669025317"
      ]
     },
     "execution_count": 53,
     "metadata": {},
     "output_type": "execute_result"
    }
   ],
   "source": [
    "euclidiana(avaliacoesUsuarios, 'Marcos', 'Claudia')"
   ]
  },
  {
   "cell_type": "code",
   "execution_count": 54,
   "metadata": {},
   "outputs": [
    {
     "data": {
      "text/plain": [
       "0.38742588672279304"
      ]
     },
     "execution_count": 54,
     "metadata": {},
     "output_type": "execute_result"
    }
   ],
   "source": [
    "euclidiana(avaliacoesUsuarios, 'Pedro', 'Adriano')"
   ]
  },
  {
   "cell_type": "code",
   "execution_count": 55,
   "metadata": {},
   "outputs": [
    {
     "data": {
      "text/plain": [
       "0.4721359549995794"
      ]
     },
     "execution_count": 55,
     "metadata": {},
     "output_type": "execute_result"
    }
   ],
   "source": [
    "euclidiana(avaliacoesUsuarios, 'Ana', 'Pedro')"
   ]
  },
  {
   "cell_type": "code",
   "execution_count": 56,
   "metadata": {},
   "outputs": [
    {
     "data": {
      "text/plain": [
       "0.4721359549995794"
      ]
     },
     "execution_count": 56,
     "metadata": {},
     "output_type": "execute_result"
    }
   ],
   "source": [
    "# não importa a ordem, a similaridade deve ser a mesma\n",
    "euclidiana(avaliacoesUsuarios, 'Pedro', 'Ana')"
   ]
  },
  {
   "cell_type": "markdown",
   "metadata": {},
   "source": [
    "### Função para retornar a similaridade de todos os usuários"
   ]
  },
  {
   "cell_type": "code",
   "execution_count": 57,
   "metadata": {},
   "outputs": [],
   "source": [
    "def getSimilares(base, usuario):\n",
    "    similaridade = [(euclidiana(base, usuario, outro), outro)      # retornará o valor similaridade, nome do outro usuário\n",
    "                    for outro in base if outro != usuario]\n",
    "    \n",
    "    similaridade.sort()       \n",
    "    similaridade.reverse()\n",
    "    return similaridade"
   ]
  },
  {
   "cell_type": "code",
   "execution_count": 59,
   "metadata": {},
   "outputs": [
    {
     "data": {
      "text/plain": [
       "[(0.4721359549995794, 'Pedro'),\n",
       " (0.4142135623730951, 'Adriano'),\n",
       " (0.38742588672279304, 'Claudia'),\n",
       " (0.3483314773547883, 'Leonardo'),\n",
       " (0.3405424265831667, 'Janaina'),\n",
       " (0.29429805508554946, 'Marcos')]"
      ]
     },
     "execution_count": 59,
     "metadata": {},
     "output_type": "execute_result"
    }
   ],
   "source": [
    "# testando função para retornar a similaridade para todos os usuários\n",
    "\n",
    "getSimilares(avaliacoesUsuarios, 'Ana')"
   ]
  },
  {
   "cell_type": "code",
   "execution_count": 60,
   "metadata": {},
   "outputs": [
    {
     "data": {
      "text/plain": [
       "[(0.6666666666666666, 'Janaina'),\n",
       " (0.3405424265831667, 'Pedro'),\n",
       " (0.29429805508554946, 'Ana'),\n",
       " (0.28172904669025317, 'Claudia'),\n",
       " (0.27792629762666365, 'Adriano'),\n",
       " (0.25824569976124334, 'Leonardo')]"
      ]
     },
     "execution_count": 60,
     "metadata": {},
     "output_type": "execute_result"
    }
   ],
   "source": [
    "getSimilares(avaliacoesUsuarios, 'Marcos')"
   ]
  },
  {
   "cell_type": "code",
   "execution_count": 61,
   "metadata": {},
   "outputs": [
    {
     "data": {
      "text/plain": [
       "[(0.5358983848622454, 'Claudia'),\n",
       " (0.4721359549995794, 'Ana'),\n",
       " (0.38742588672279304, 'Leonardo'),\n",
       " (0.38742588672279304, 'Adriano'),\n",
       " (0.3405424265831667, 'Marcos'),\n",
       " (0.32037724101704074, 'Janaina')]"
      ]
     },
     "execution_count": 61,
     "metadata": {},
     "output_type": "execute_result"
    }
   ],
   "source": [
    "getSimilares(avaliacoesUsuarios, 'Pedro')"
   ]
  },
  {
   "cell_type": "code",
   "execution_count": 62,
   "metadata": {},
   "outputs": [
    {
     "data": {
      "text/plain": [
       "[(0.5358983848622454, 'Pedro'),\n",
       " (0.38742588672279304, 'Ana'),\n",
       " (0.3567891723253309, 'Leonardo'),\n",
       " (0.32037724101704074, 'Janaina'),\n",
       " (0.31451985913875646, 'Adriano'),\n",
       " (0.28172904669025317, 'Marcos')]"
      ]
     },
     "execution_count": 62,
     "metadata": {},
     "output_type": "execute_result"
    }
   ],
   "source": [
    "getSimilares(avaliacoesUsuarios, 'Claudia')"
   ]
  },
  {
   "cell_type": "code",
   "execution_count": 63,
   "metadata": {},
   "outputs": [
    {
     "data": {
      "text/plain": [
       "[(0.4142135623730951, 'Ana'),\n",
       " (0.4, 'Leonardo'),\n",
       " (0.38742588672279304, 'Pedro'),\n",
       " (0.31451985913875646, 'Claudia'),\n",
       " (0.2857142857142857, 'Janaina'),\n",
       " (0.27792629762666365, 'Marcos')]"
      ]
     },
     "execution_count": 63,
     "metadata": {},
     "output_type": "execute_result"
    }
   ],
   "source": [
    "getSimilares(avaliacoesUsuarios, 'Adriano')"
   ]
  },
  {
   "cell_type": "code",
   "execution_count": 64,
   "metadata": {},
   "outputs": [
    {
     "data": {
      "text/plain": [
       "[(0.6666666666666666, 'Marcos'),\n",
       " (0.3405424265831667, 'Ana'),\n",
       " (0.32037724101704074, 'Pedro'),\n",
       " (0.32037724101704074, 'Claudia'),\n",
       " (0.2857142857142857, 'Adriano'),\n",
       " (0.2674788903885893, 'Leonardo')]"
      ]
     },
     "execution_count": 64,
     "metadata": {},
     "output_type": "execute_result"
    }
   ],
   "source": [
    "getSimilares(avaliacoesUsuarios, 'Janaina')"
   ]
  },
  {
   "cell_type": "code",
   "execution_count": 65,
   "metadata": {},
   "outputs": [
    {
     "data": {
      "text/plain": [
       "[(0.4, 'Adriano'),\n",
       " (0.38742588672279304, 'Pedro'),\n",
       " (0.3567891723253309, 'Claudia'),\n",
       " (0.3483314773547883, 'Ana'),\n",
       " (0.2674788903885893, 'Janaina'),\n",
       " (0.25824569976124334, 'Marcos')]"
      ]
     },
     "execution_count": 65,
     "metadata": {},
     "output_type": "execute_result"
    }
   ],
   "source": [
    "getSimilares(avaliacoesUsuarios, 'Leonardo')"
   ]
  },
  {
   "cell_type": "markdown",
   "metadata": {},
   "source": [
    "# Recomendação de filmes com filtragem baseada em usuários\n",
    "\n",
    "Encontrar alguém semelhante para ler as avaliações\n",
    "\n",
    "### Problemas desta abordagem\n",
    "\n",
    "1 - Usuários que não tenham feito avaliações sobre filmes que podem ser de interesse;\n",
    "\n",
    "2 - Usuários que tenham gostado de filmes mal avaliados pelos demais.\n",
    "\n",
    "### Tentativa de evitar estes erros\n",
    "\n",
    "Atribuir notas usando média ponderada (peso).\n",
    "\n",
    "# Usuário alvo: Leonardo"
   ]
  },
  {
   "cell_type": "code",
   "execution_count": 66,
   "metadata": {},
   "outputs": [
    {
     "data": {
      "text/plain": [
       "[(0.4, 'Adriano'),\n",
       " (0.38742588672279304, 'Pedro'),\n",
       " (0.3567891723253309, 'Claudia'),\n",
       " (0.3483314773547883, 'Ana'),\n",
       " (0.2674788903885893, 'Janaina'),\n",
       " (0.25824569976124334, 'Marcos')]"
      ]
     },
     "execution_count": 66,
     "metadata": {},
     "output_type": "execute_result"
    }
   ],
   "source": [
    "# Chamdndo a função para calcular a similaridade de Leonardo x outros usuários \n",
    "\n",
    "getSimilares(avaliacoesUsuarios, 'Leonardo')"
   ]
  },
  {
   "cell_type": "markdown",
   "metadata": {},
   "source": [
    "[...] explicar a tabela de recomendações por similaridade. Aulas Como fazer recomendações \"I, II e III\""
   ]
  },
  {
   "cell_type": "code",
   "execution_count": 72,
   "metadata": {},
   "outputs": [],
   "source": [
    "# Função para recomendação\n",
    "\n",
    "def getRecomendacoes(base, usuario):\n",
    "    totais = {}\n",
    "    somaSimilaridade = {}\n",
    "    for outro in base:                                  # percorre todos os usuários outros\n",
    "        if outro == usuario: continue\n",
    "        similaridade = euclidiana(base, usuario, outro)\n",
    "        \n",
    "        if similaridade <= 0: continue\n",
    "        \n",
    "        for item in base[outro]:                   # percorre todos os filmes dos uoutros\n",
    "            if item not in base[usuario]:                # pega apenas os filmes que o usuário ainda não viu\n",
    "                totais.setdefault(item, 0)\n",
    "                totais[item] += base[outro][item] * similaridade\n",
    "                somaSimilaridade.setdefault(item, 0)\n",
    "                somaSimilaridade[item] += similaridade\n",
    "    rankings = [(total / somaSimilaridade[item], item) for item, total in totais.items()]\n",
    "    rankings.sort()                                      # ordena rankins\n",
    "    rankings.reverse()                                   # como em ordem decrescente\n",
    "    return rankings\n",
    "    "
   ]
  },
  {
   "cell_type": "code",
   "execution_count": 73,
   "metadata": {},
   "outputs": [
    {
     "data": {
      "text/plain": [
       "[(3.457128694491423, 'Star Wars'),\n",
       " (2.778584003814924, 'Freddy x Jason'),\n",
       " (2.422482042361917, 'Star Trek')]"
      ]
     },
     "execution_count": 73,
     "metadata": {},
     "output_type": "execute_result"
    }
   ],
   "source": [
    "########################################\n",
    "#  testando a função de recomendação   #\n",
    "########################################\n",
    "\n",
    "getRecomendacoes(avaliacoesUsuarios, 'Leonardo')"
   ]
  },
  {
   "cell_type": "code",
   "execution_count": 74,
   "metadata": {},
   "outputs": [
    {
     "data": {
      "text/plain": [
       "[(2.4825817086405517, 'Star Trek'), (2.453379230569188, 'Norbit')]"
      ]
     },
     "execution_count": 74,
     "metadata": {},
     "output_type": "execute_result"
    }
   ],
   "source": [
    "########################################\n",
    "#  testando a função de recomendação   #\n",
    "########################################\n",
    "\n",
    "getRecomendacoes(avaliacoesUsuarios, 'Pedro')"
   ]
  },
  {
   "cell_type": "code",
   "execution_count": 75,
   "metadata": {},
   "outputs": [
    {
     "data": {
      "text/plain": [
       "[(2.74908990418004, 'Freddy x Jason')]"
      ]
     },
     "execution_count": 75,
     "metadata": {},
     "output_type": "execute_result"
    }
   ],
   "source": [
    "########################################\n",
    "#  testando a função de recomendação   #\n",
    "########################################\n",
    "\n",
    "getRecomendacoes(avaliacoesUsuarios, 'Claudia')"
   ]
  },
  {
   "cell_type": "code",
   "execution_count": 76,
   "metadata": {},
   "outputs": [
    {
     "data": {
      "text/plain": [
       "[(2.203053498033553, 'Star Trek')]"
      ]
     },
     "execution_count": 76,
     "metadata": {},
     "output_type": "execute_result"
    }
   ],
   "source": [
    "########################################\n",
    "#  testando a função de recomendação   #\n",
    "########################################\n",
    "\n",
    "getRecomendacoes(avaliacoesUsuarios, 'Janaina')"
   ]
  },
  {
   "cell_type": "markdown",
   "metadata": {},
   "source": [
    "### Filmes similares"
   ]
  },
  {
   "cell_type": "code",
   "execution_count": 77,
   "metadata": {},
   "outputs": [],
   "source": [
    "avaliacoesFilmes = {'Freddy x Jason': \n",
    "        {'Ana': 2.5, \n",
    "         'Marcos:': 3.0 ,\n",
    "         'Pedro': 2.5, \n",
    "         'Adriano': 3.0, \n",
    "         'Janaina': 3.0 },\n",
    "\n",
    "     'O Ultimato Bourne': \n",
    "        {'Ana': 3.5, \n",
    "         'Marcos': 3.5,\n",
    "         'Pedro': 3.0, \n",
    "         'Claudia': 3.5, \n",
    "         'Adriano': 4.0, \n",
    "         'Janaina': 4.0,\n",
    "         'Leonardo': 4.5 },\n",
    " \n",
    "     'Star Trek': \n",
    "        {'Ana': 3.0, \n",
    "         'Marcos:': 1.5,\n",
    "         'Claudia': 3.0, \n",
    "         'Adriano': 2.0 },\n",
    "\n",
    "     'Exterminador do Futuro': \n",
    "        {'Ana': 3.5, \n",
    "         'Marcos:': 5.0 ,\n",
    "         'Pedro': 3.5, \n",
    "         'Claudia': 4.0, \n",
    "         'Adriano': 3.0, \n",
    "         'Janaina': 5.0,\n",
    "         'Leonardo': 4.0},\n",
    " \n",
    "     'Norbit': \n",
    "        {'Ana': 2.5, \n",
    "         'Marcos:': 3.0 ,\n",
    "         'Claudia': 2.5, \n",
    "         'Adriano': 2.0, \n",
    "         'Janaina': 3.5,\n",
    "         'Leonardo': 1.0},\n",
    " \n",
    "     'Star Wars': \n",
    "        {'Ana': 3.0, \n",
    "         'Marcos:': 3.5,\n",
    "         'Pedro': 4.0, \n",
    "         'Claudia': 4.5, \n",
    "         'Adriano': 3.0, \n",
    "         'Janaina': 3.0}\n",
    "}"
   ]
  },
  {
   "cell_type": "code",
   "execution_count": 79,
   "metadata": {},
   "outputs": [
    {
     "data": {
      "text/plain": [
       "{'Ana': 3.0,\n",
       " 'Marcos:': 3.5,\n",
       " 'Pedro': 4.0,\n",
       " 'Claudia': 4.5,\n",
       " 'Adriano': 3.0,\n",
       " 'Janaina': 3.0}"
      ]
     },
     "execution_count": 79,
     "metadata": {},
     "output_type": "execute_result"
    }
   ],
   "source": [
    "########################################\n",
    "#      testando novo dicionário        #\n",
    "########################################\n",
    "\n",
    "avaliacoes['Star Wars']"
   ]
  },
  {
   "cell_type": "code",
   "execution_count": 80,
   "metadata": {},
   "outputs": [
    {
     "data": {
      "text/plain": [
       "[(0.3761785115301142, 'Freddy x Jason'),\n",
       " (0.3266316347104093, 'O Ultimato Bourne'),\n",
       " (0.29429805508554946, 'Norbit'),\n",
       " (0.27429188517743175, 'Exterminador do Futuro'),\n",
       " (0.2708131845707603, 'Star Trek')]"
      ]
     },
     "execution_count": 80,
     "metadata": {},
     "output_type": "execute_result"
    }
   ],
   "source": [
    "###############################################\n",
    "#  testando getSimilares p/ o novo dicionário #\n",
    "###############################################\n",
    "\n",
    "getSimilares(avaliacoesFilmes, 'Star Wars') # apresenta similaridade entre os filmes"
   ]
  },
  {
   "cell_type": "code",
   "execution_count": 81,
   "metadata": {},
   "outputs": [
    {
     "data": {
      "text/plain": [
       "[(0.4721359549995794, 'Freddy x Jason'),\n",
       " (0.3761785115301142, 'Star Trek'),\n",
       " (0.29429805508554946, 'Star Wars'),\n",
       " (0.1886378647726465, 'O Ultimato Bourne'),\n",
       " (0.18464218557642828, 'Exterminador do Futuro')]"
      ]
     },
     "execution_count": 81,
     "metadata": {},
     "output_type": "execute_result"
    }
   ],
   "source": [
    "###############################################\n",
    "#  testando getSimilares p/ o novo dicionário #\n",
    "###############################################\n",
    "\n",
    "getSimilares(avaliacoesFilmes, 'Norbit') # apresenta similaridade entre os filmes"
   ]
  },
  {
   "cell_type": "code",
   "execution_count": 82,
   "metadata": {},
   "outputs": [
    {
     "data": {
      "text/plain": [
       "[(3.6067168976036834, 'Janaina'),\n",
       " (3.5, 'Marcos'),\n",
       " (3.1748504433675175, 'Pedro'),\n",
       " (2.929467965289551, 'Leonardo')]"
      ]
     },
     "execution_count": 82,
     "metadata": {},
     "output_type": "execute_result"
    }
   ],
   "source": [
    "###################################################\n",
    "#  testando getRecomendacoes p/ o novo dicionário #\n",
    "###################################################\n",
    "\n",
    "getRecomendacoes(avaliacoesFilmes, 'Star Trek') # apresenta recomendações entre os filmes"
   ]
  },
  {
   "cell_type": "code",
   "execution_count": null,
   "metadata": {},
   "outputs": [],
   "source": []
  }
 ],
 "metadata": {
  "kernelspec": {
   "display_name": "Python 3",
   "language": "python",
   "name": "python3"
  },
  "language_info": {
   "codemirror_mode": {
    "name": "ipython",
    "version": 3
   },
   "file_extension": ".py",
   "mimetype": "text/x-python",
   "name": "python",
   "nbconvert_exporter": "python",
   "pygments_lexer": "ipython3",
   "version": "3.8.5"
  }
 },
 "nbformat": 4,
 "nbformat_minor": 4
}
