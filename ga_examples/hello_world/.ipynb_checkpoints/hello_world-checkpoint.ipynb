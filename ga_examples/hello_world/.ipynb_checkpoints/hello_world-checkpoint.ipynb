{
 "cells": [
  {
   "cell_type": "markdown",
   "metadata": {},
   "source": [
    "# hello world problem\n",
    "\n",
    "### Chapter 1 of the book Genetic Algorithms with Python by [Clinton Sheppard](https://www.amazon.com/Genetic-Algorithms-Python-Clinton-Sheppard/dp/1540324001)"
   ]
  },
  {
   "cell_type": "markdown",
   "metadata": {},
   "source": [
    "### Genes\n",
    "\n",
    "Para começar, o algoritmo genético precisa de um conjunto de genes para usar na construção de palpites. Para este projeto, será um conjunto genérico de letras. Também precisa de uma senha de destino para adivinhar:"
   ]
  },
  {
   "cell_type": "code",
   "execution_count": 12,
   "metadata": {},
   "outputs": [],
   "source": [
    "geneSet = \" abcdefghijklmnopqrstuvwxyzABCDEFGHIJKLMNOPQRSTUVWXYZ!.\"\n",
    "target = \"Hello World!\""
   ]
  },
  {
   "cell_type": "markdown",
   "metadata": {},
   "source": [
    "### import libraries\n",
    "\n",
    "Importando as bibliotecas random e datetime"
   ]
  },
  {
   "cell_type": "code",
   "execution_count": 13,
   "metadata": {},
   "outputs": [],
   "source": [
    "import random \n",
    "import datetime"
   ]
  },
  {
   "cell_type": "markdown",
   "metadata": {},
   "source": [
    "### Generate a guess\n",
    "\n",
    "Em seguida, o algoritmo precisa de uma maneira de gerar uma string aleatória a partir do conjunto de genes."
   ]
  },
  {
   "cell_type": "code",
   "execution_count": 14,
   "metadata": {},
   "outputs": [],
   "source": [
    "def generate_parent(length):\n",
    "    genes = []\n",
    "    while len(genes) < length:\n",
    "        sampleSize = min(length - len(genes), len(geneSet))\n",
    "        genes.extend(random.sample(geneSet, sampleSize))\n",
    "    return ''.join(genes)\n"
   ]
  },
  {
   "cell_type": "markdown",
   "metadata": {},
   "source": [
    "(i) ***list.extend () acrescenta vários itens a uma lista. string.join () usa a string dada como um separador para criar uma nova string com os valores sendo unidos, por exemplo: 'x'.join ([' a ',' b ',' c ']) recebe \"axbxc\" .***\n",
    "\n",
    "(i) ***random.sample () pega valores sampleSize da entrada sem substituição. Isso significa que não haverá duplicatas no pai gerado, a menos que o geneSet contenha duplicatas ou o tamanho seja maior que len (geneSet). A implementação acima pode gerar uma longa cadeia com um pequeno conjunto de genes e usa tantos genes únicos quanto possível.***"
   ]
  },
  {
   "cell_type": "markdown",
   "metadata": {},
   "source": [
    "### Fitness\n",
    "\n",
    "O valor de adequação que o algoritmo genético fornece é o único feedback que o mecanismo obtém para guiá-lo em direção a uma solução. Neste projeto, o valor de adequação é o número total de letras no palpite que correspondem à letra na mesma posição da senha."
   ]
  },
  {
   "cell_type": "code",
   "execution_count": 15,
   "metadata": {},
   "outputs": [],
   "source": [
    "def get_fitness(guess):\n",
    "    return sum(1 for expected, actual in zip(target, guess) if expected == actual)"
   ]
  },
  {
   "cell_type": "markdown",
   "metadata": {},
   "source": [
    "### Mutation\n",
    "\n",
    "(i) ***zip () é uma função embutida que torna possível iterar duas listas (ou iterações) simultaneamente.***\n",
    "\n",
    "Essa implementação usa uma substituição alternativa se o newGene selecionado aleatoriamente for o mesmo que ele deve substituir, o que pode impedir um número significativo de palpites desperdiçados. Em seguida, o mecanismo precisa de uma maneira de produzir um novo palpite, alterando o atual."
   ]
  },
  {
   "cell_type": "code",
   "execution_count": 16,
   "metadata": {},
   "outputs": [],
   "source": [
    "def mutate(parent):\n",
    "    index = random.randrange(0, len(parent))\n",
    "    childGenes = list(parent)\n",
    "    newGene, alternate = random.sample(geneSet, 2)\n",
    "    childGenes[index] = alternate if newGene == childGenes[index] else newGene\n",
    "    return ''.join(childGenes)"
   ]
  },
  {
   "cell_type": "markdown",
   "metadata": {},
   "source": [
    "Essa implementação converte a string pai em um array com list (parent), depois substitui 1 letra no array por um randomicamente selecionado de geneSet e finalmente recombina o resultado em uma string com .join (). Ele usa uma substituição alternativa se o newGene selecionado aleatoriamente for o mesmo que ele deve substituir, o que pode impedir um número significativo de palpites desperdiçados."
   ]
  },
  {
   "cell_type": "markdown",
   "metadata": {},
   "source": [
    "### Display\n",
    "\n",
    "Em seguida, é importante monitorar o que está acontecendo para que o mecanismo possa ser parado se ficar preso. Ter uma representação visual da sequência do gene, que pode não ser a seqüência do gene literal, é freqüentemente crítica para identificar o que funciona e o que não funciona para que o algoritmo possa ser melhorado."
   ]
  },
  {
   "cell_type": "code",
   "execution_count": 17,
   "metadata": {},
   "outputs": [],
   "source": [
    "def display(guess):\n",
    "    timeDiff = datetime.datetime.now() - startTime\n",
    "    fitness = get_fitness(guess)\n",
    "    print(\"{}\\t{}\\t{}\".format(guess, fitness, timeDiff))"
   ]
  },
  {
   "cell_type": "markdown",
   "metadata": {},
   "source": [
    "Normalmente, a função de exibição também gera o valor de adequação e quanto tempo se passou."
   ]
  },
  {
   "cell_type": "markdown",
   "metadata": {},
   "source": [
    "###  Main\n",
    "\n",
    "O programa principal começa inicializando bestParent para uma seqüência aleatória de letras e chamando a função de exibição.\n",
    "\n",
    "A peça final é o coração do motor genético. É um loop que:\n",
    "1. gera um palpite\n",
    "2. solicita a adequação para essa suposição, então\n",
    "3. compara a adequação com a do melhor palpite anterior e\n",
    "4. mantém o palpite com a melhor aptidão.\n",
    "\n",
    "Este ciclo se repete até que ocorra uma condição de parada, neste caso, quando todas as letras no palpite coincidem com as do alvo."
   ]
  },
  {
   "cell_type": "code",
   "execution_count": 18,
   "metadata": {},
   "outputs": [
    {
     "name": "stdout",
     "output_type": "stream",
     "text": [
      "kpeQHjsJE.ub\t0\t0:00:00.001001\n",
      "kpeQHjsoE.ub\t1\t0:00:00.003000\n",
      "kpeQHjsoE.u!\t2\t0:00:00.003999\n",
      "kpelHjsoE.u!\t3\t0:00:00.005000\n",
      "kpelHjsor.u!\t4\t0:00:00.005997\n",
      "HpelHjsor.u!\t5\t0:00:00.006996\n",
      "HpelHjsorlu!\t6\t0:00:00.006996\n",
      "HpelHjsorld!\t7\t0:00:00.008994\n",
      "HpelH sorld!\t8\t0:00:00.013991\n",
      "HpllH sorld!\t9\t0:00:00.018989\n",
      "HellH sorld!\t10\t0:00:00.019988\n",
      "HellH World!\t11\t0:00:00.040976\n",
      "Hello World!\t12\t0:00:00.066962\n"
     ]
    }
   ],
   "source": [
    "random.seed()\n",
    "startTime = datetime.datetime.now()\n",
    "bestParent = generate_parent(len(target))\n",
    "bestFitness = get_fitness(bestParent)\n",
    "display(bestParent)\n",
    "\n",
    "while True:\n",
    "    child = mutate(bestParent)\n",
    "    childFitness = get_fitness(child)\n",
    "    if bestFitness >= childFitness:\n",
    "        continue\n",
    "    display(child)\n",
    "    if childFitness >= len(bestParent):\n",
    "        break\n",
    "    bestFitness = childFitness\n",
    "    bestParent = child"
   ]
  },
  {
   "cell_type": "code",
   "execution_count": null,
   "metadata": {},
   "outputs": [],
   "source": []
  }
 ],
 "metadata": {
  "kernelspec": {
   "display_name": "Python 3",
   "language": "python",
   "name": "python3"
  },
  "language_info": {
   "codemirror_mode": {
    "name": "ipython",
    "version": 3
   },
   "file_extension": ".py",
   "mimetype": "text/x-python",
   "name": "python",
   "nbconvert_exporter": "python",
   "pygments_lexer": "ipython3",
   "version": "3.6.7"
  }
 },
 "nbformat": 4,
 "nbformat_minor": 2
}
