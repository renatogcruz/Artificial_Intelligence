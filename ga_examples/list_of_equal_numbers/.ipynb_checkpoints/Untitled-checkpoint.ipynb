{
 "cells": [
  {
   "cell_type": "markdown",
   "metadata": {},
   "source": [
    "# Definindo um problema para otimizar\n",
    "\n",
    "Agora vamos montar um exemplo simples de usar um algoritmo genético em Python. Vamos otimizar um problema muito simples: tentar criar uma lista de Nnúmeros iguais X quando somados.\n",
    "\n",
    "Se definirmos N = 5e X = 200, em seguida, todos estes seriam soluções adequadas."
   ]
  },
  {
   "cell_type": "markdown",
   "metadata": {},
   "source": [
    "Referência - [Will Larson](https://lethain.com/genetic-algorithms-cool-name-damn-simple/) - site: *Irrational Exuberance!*"
   ]
  },
  {
   "cell_type": "markdown",
   "metadata": {},
   "source": [
    "### Exemplo:\n",
    "\n",
    "Se definirmos N = 5e X = 200, em seguida, todos estes seriam soluções adequadas.\n",
    "\n",
    "lst  =  [ 40 , 40 , 40 , 40 , 40 ] \n",
    "lst  =  [ 50 , 50 , 50 , 25 , 25 ] \n",
    "lst  =  [ 200 , 0 , 0 , 0 , 0 ]"
   ]
  },
  {
   "cell_type": "markdown",
   "metadata": {},
   "source": [
    "# Solução\n",
    "Cada solução sugerida para um algoritmo genético é referida como um indivíduo . Em nosso problema atual, cada lista de N números é um indivíduo."
   ]
  },
  {
   "cell_type": "markdown",
   "metadata": {},
   "source": [
    "### import libraries"
   ]
  },
  {
   "cell_type": "code",
   "execution_count": 14,
   "metadata": {},
   "outputs": [],
   "source": [
    "from random import randint, random\n",
    "from operator import add\n",
    "import functools "
   ]
  },
  {
   "cell_type": "code",
   "execution_count": 15,
   "metadata": {},
   "outputs": [],
   "source": [
    "def individual(length, min, max):\n",
    "    \"create a member of the population\"\n",
    "    return[ randint(min,max) for x in range(length)] \n",
    "\n",
    "#print(individual(5,0,100))"
   ]
  },
  {
   "cell_type": "markdown",
   "metadata": {},
   "source": [
    "A coleta de todos os indivíduos é referida como nossa população"
   ]
  },
  {
   "cell_type": "code",
   "execution_count": 16,
   "metadata": {},
   "outputs": [],
   "source": [
    "def population(count, length, min, max):    \n",
    "    \"\"\"\n",
    "    Create a number of individuals (i.e. a population).\n",
    "\n",
    "    count: the number of individuals in the population\n",
    "    length: the number of values per individual\n",
    "    min: the min possible value in an individual's list of values\n",
    "    max: the max possible value in an individual's list of values\n",
    "    \n",
    "    \"\"\"\n",
    "    return [ individual(length, min, max) for x in range(count)]\n",
    "\n",
    "#print(population(3,5,0,100))"
   ]
  },
  {
   "cell_type": "markdown",
   "metadata": {},
   "source": [
    "Em seguida, precisamos de uma maneira de julgar a eficácia de cada solução; julgar a aptidão de cada indivíduo. Para este problema, queremos que a adequação seja uma função da distância entre a soma de um número individual e o número alvo X.\n",
    "\n",
    "Podemos implementar a função de adequação da seguinte maneira:"
   ]
  },
  {
   "cell_type": "code",
   "execution_count": 17,
   "metadata": {},
   "outputs": [],
   "source": [
    "def fitness(individual, target):\n",
    "    \"\"\"\n",
    "    Determina a aptidão de um indivíduo. Mais baixo é melhor\n",
    "\n",
    "    indivíduo: o indivíduo para avaliar\n",
    "    alvo: a soma dos números que os indivíduos estão buscando\n",
    "    \"\"\"\n",
    "    sum = functools.reduce(add, individual, 0) #adicionei a biblioteca functools (não tinha no original)\n",
    "    return abs(target-sum)\n",
    "\n",
    "#x = individual(5,0,100)\n",
    "#print(fitness(x, 200))"
   ]
  },
  {
   "cell_type": "markdown",
   "metadata": {},
   "source": [
    "Também é útil criar uma função que determine a aptidão média de uma população ."
   ]
  },
  {
   "cell_type": "code",
   "execution_count": 18,
   "metadata": {},
   "outputs": [],
   "source": [
    "def grade(pop, target):\t\n",
    "    \"Encontre aptidão média para uma população\"\n",
    "    summed = functools.reduce(add, (fitness(x, target) for x in pop), 0)\n",
    "    return summed / (len(pop) * 1.0)\n",
    "\n",
    "#x = population(3,5,0,100)\n",
    "#target = 200\n",
    "#print(grade(x, target))"
   ]
  },
  {
   "cell_type": "markdown",
   "metadata": {},
   "source": [
    "Agora precisamos de uma maneira de evoluir nossa população de uma geração para a próxima."
   ]
  },
  {
   "cell_type": "markdown",
   "metadata": {},
   "source": [
    "### Evolução\n",
    "\n",
    "Aqui é o secreto dos algoritmos genéticos. Considere uma população de alces que são impiedosamente caçados por um bando de lobos. A cada geração, os mais fracos são devorados pelos lobos e, os alces mais fortes se reproduzem e geram filhos. Abstraia um pouco essas ideias e podemos implementar o mecanismo de evolução.\n",
    "\n",
    "1. Para cada geração, teremos uma parte dos indivíduos com melhor desempenho, conforme julgado pela nossa função de fitness. Esses indivíduos de alto desempenho serão os pais da próxima geração.\n",
    "\n",
    "Também vamos selecionar aleatoriamente alguns indivíduos com menores desempenho, isso é importante para promover a diversidade genética. Abandonando a metáfora, um dos perigos dos algoritmos de otimização é ficar preso em um máximo local e, consequentemente, ser incapaz de encontrar o máximo real. Ao incluir alguns indivíduos dessa forma, diminuímos nossa probabilidade de ficarmos presos.\n",
    "\n",
    "2. Reúna os pais para repovoar a população até o tamanho desejado (se você escolher os 20 principais indivíduos em uma população de 100 pessoas, será necessário criar 80 novos filhos por meio da reprodução). No nosso caso, a criação é bem básica: pegue os primeiros N/2 dígitos do pai e os últimos N/2 dígitos da mãe.\n",
    "\n",
    "Não há problema em ter uma raça mãe várias vezes, mas um pai nunca deve ser pai e mãe de uma criança.\n",
    "\n",
    "3. Junte os pais e filhos para constituir a população da próxima geração.\n",
    "\n",
    "4. Finalmente, nós mutamos uma pequena porção aleatória da população. O que isto significa é ter uma probabilidade de modificar aleatoriamente cada indivíduo.\n",
    "\n",
    "Juntando tudo, o código para evoluir uma geração pode ser implementado assim:"
   ]
  },
  {
   "cell_type": "code",
   "execution_count": 19,
   "metadata": {},
   "outputs": [],
   "source": [
    "def evolve(pop, target, retain=0.2, random_select=0.5, mutate=0.01):\n",
    "    graded = [(fitness(x, target), x) for x in pop]\n",
    "    graded = [x[1] for x in sorted(graded)]\n",
    "    retain_length = int(len(graded) * retain)\n",
    "    parents = graded[:retain_length]\n",
    "\n",
    "    # Adicionar aleatoriamente outros indivíduos para promover diversidade genética\n",
    "    for individual in graded[retain_length:]:\n",
    "        if random_select > random():\n",
    "            parents.append(individual)\n",
    "\n",
    "    # Mutate some indivíduos\n",
    "    for individual in parents:\n",
    "        if mutate > random():\n",
    "            pos_to_mutate = randint(0, len(individual)-1)\n",
    "            # esta mutação não é ideal, porque\n",
    "            # restringe o intervalo de valores possíveis,\n",
    "            # mas a função não tem conhecimento do min / max\n",
    "            # valores usados para criar os indivíduos\n",
    "            individual[pos_to_mutate] = randint(min(individual), max(individual))\n",
    "\n",
    "    # crossover parents para criar filhos\n",
    "    parents_length = len(parents)\n",
    "    desired_length = len(pop) - parents_length\n",
    "    children = []\n",
    "    while len(children) < desired_length:\n",
    "        male = randint(0, parents_length - 1)\n",
    "        female = randint(0, parents_length - 1)\n",
    "        if male != female:\n",
    "            male = parents[male]\n",
    "            female = parents[female]\n",
    "            half = len(male) / 2\n",
    "            #child = male[:half] + female[half:] #original\n",
    "            child = male[:int(half)] + female[int(half):]\n",
    "            children.append(child)\n",
    "\n",
    "    parents.extend(children)\n",
    "    return parents"
   ]
  },
  {
   "cell_type": "markdown",
   "metadata": {},
   "source": [
    "### Testando-o\n",
    "\n",
    "Aqui está uma maneira simples de usar o código que escrevemos:"
   ]
  },
  {
   "cell_type": "code",
   "execution_count": 20,
   "metadata": {},
   "outputs": [
    {
     "name": "stdout",
     "output_type": "stream",
     "text": [
      "128.39\n",
      "123.03\n",
      "108.85\n",
      "87.2\n",
      "75.45\n",
      "53.88\n",
      "50.21\n",
      "43.24\n",
      "39.6\n",
      "34.41\n",
      "34.96\n",
      "27.73\n",
      "30.43\n",
      "24.59\n",
      "30.06\n",
      "31.73\n",
      "29.68\n",
      "28.73\n",
      "26.74\n",
      "24.83\n",
      "23.37\n",
      "22.65\n",
      "18.98\n",
      "17.11\n",
      "12.21\n",
      "11.59\n",
      "9.03\n",
      "7.22\n",
      "6.44\n",
      "3.81\n",
      "3.02\n",
      "2.32\n",
      "0.94\n",
      "1.27\n",
      "1.34\n",
      "1.26\n",
      "1.11\n",
      "1.8\n",
      "1.2\n",
      "0.94\n",
      "0.49\n",
      "0.45\n",
      "0.34\n",
      "0.64\n",
      "0.23\n",
      "0.39\n",
      "0.24\n",
      "0.08\n",
      "0.24\n",
      "0.62\n",
      "0.55\n",
      "0.16\n",
      "0.16\n",
      "0.67\n",
      "1.09\n",
      "1.4\n",
      "1.57\n",
      "1.79\n",
      "0.99\n",
      "1.53\n",
      "2.05\n",
      "1.84\n",
      "2.26\n",
      "1.84\n",
      "0.99\n",
      "0.87\n",
      "0.65\n",
      "0.22\n",
      "0.19\n",
      "0.3\n",
      "0.22\n",
      "1.11\n",
      "1.23\n",
      "1.6\n",
      "1.54\n",
      "1.4\n",
      "0.0\n",
      "0.0\n",
      "0.0\n",
      "0.04\n",
      "0.05\n",
      "0.15\n",
      "0.24\n",
      "0.12\n",
      "0.36\n",
      "0.62\n",
      "0.74\n",
      "0.19\n",
      "0.89\n",
      "0.0\n",
      "0.0\n",
      "0.56\n",
      "0.41\n",
      "0.13\n",
      "0.45\n",
      "0.45\n",
      "1.02\n",
      "0.57\n",
      "0.73\n",
      "1.41\n",
      "2.41\n"
     ]
    }
   ],
   "source": [
    "target = 371\n",
    "p_count = 100\n",
    "i_length = 5\n",
    "i_min = 0\n",
    "i_max = 100\n",
    "p = population(p_count, i_length, i_min, i_max)\n",
    "\n",
    "\n",
    "fitness_history = [grade(p, target),] \n",
    "\n",
    "\n",
    "for i in range(100):\n",
    "    p = evolve(p, target)\n",
    "    fitness_history.append(grade(p, target))\n",
    "\n",
    "for datum in fitness_history:\n",
    "    print (datum)\n"
   ]
  },
  {
   "cell_type": "markdown",
   "metadata": {},
   "source": [
    "Executando esse código, você poderá ver a adaptação das gerações gradualmente (mas não deterministicamente) aproximar-se de zero."
   ]
  },
  {
   "cell_type": "markdown",
   "metadata": {},
   "source": [
    "Com 20% de sobrevivência (mais 5% de outros indivíduos) e 1% de mutação, levou poucas gerações para chegar a uma solução perfeita. Então o algoritmo corre alegremente em círculos enquanto você permitir que as mutações continuem. Mas esta é uma sensação boa, certo? Se levamos apenas meia hora para resolver um problema dessa magnitude, imagine o que poderíamos fazer com um dia. "
   ]
  },
  {
   "cell_type": "code",
   "execution_count": null,
   "metadata": {},
   "outputs": [],
   "source": []
  }
 ],
 "metadata": {
  "kernelspec": {
   "display_name": "Python 3",
   "language": "python",
   "name": "python3"
  },
  "language_info": {
   "codemirror_mode": {
    "name": "ipython",
    "version": 3
   },
   "file_extension": ".py",
   "mimetype": "text/x-python",
   "name": "python",
   "nbconvert_exporter": "python",
   "pygments_lexer": "ipython3",
   "version": "3.6.7"
  }
 },
 "nbformat": 4,
 "nbformat_minor": 2
}
